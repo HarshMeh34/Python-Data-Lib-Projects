{
 "cells": [
  {
   "cell_type": "markdown",
   "id": "2e3bbe18-6408-426c-a528-d8615b3759ec",
   "metadata": {},
   "source": [
    "- We will do DataAnalysis on the Dataset that contains all relevant information concerning coffee, rice and beef prices on the market within last 30 years.\n",
    "Basically We need to find trends and extract information on basis of Inflation Rate in the last 30 years for rice, coffe and beef.\n",
    "\n",
    "**Inflation Rate**- Measures how much more expensive a set of goods and services has become over a certain period, usually a year.\n",
    "The inflation rate is the percentage increase in the average level of prices of a basket of selected goods over time. **It indicates a decrease in the purchasing power of currency and results in an increased consumer price index (CPI)**. Put simply, the inflation rate is the rate at which the general prices of consumer goods increases when the currency purchase power is falling."
   ]
  },
  {
   "cell_type": "code",
   "execution_count": null,
   "id": "93f2856a-725a-4f40-a495-be16e88e8cb5",
   "metadata": {},
   "outputs": [],
   "source": []
  },
  {
   "cell_type": "code",
   "execution_count": 185,
   "id": "c3f6f2bf-fc81-43be-86a5-7bdaced23b28",
   "metadata": {},
   "outputs": [
    {
     "data": {
      "text/html": [
       "        <script type=\"text/javascript\">\n",
       "        window.PlotlyConfig = {MathJaxConfig: 'local'};\n",
       "        if (window.MathJax && window.MathJax.Hub && window.MathJax.Hub.Config) {window.MathJax.Hub.Config({SVG: {font: \"STIX-Web\"}});}\n",
       "        if (typeof require !== 'undefined') {\n",
       "        require.undef(\"plotly\");\n",
       "        requirejs.config({\n",
       "            paths: {\n",
       "                'plotly': ['https://cdn.plot.ly/plotly-2.26.0.min']\n",
       "            }\n",
       "        });\n",
       "        require(['plotly'], function(Plotly) {\n",
       "            window._Plotly = Plotly;\n",
       "        });\n",
       "        }\n",
       "        </script>\n",
       "        "
      ]
     },
     "metadata": {},
     "output_type": "display_data"
    }
   ],
   "source": [
    "import pandas as pd # data processing, CSV file I/O (e.g. pd.read_csv)\n",
    "import numpy as np # linear algebra\n",
    "import matplotlib.pyplot as plt\n",
    "import matplotlib as mpl\n",
    "import seaborn as sns  # visualization tool\n",
    "from datetime import datetime\n",
    "# plotly\n",
    "import plotly \n",
    "plotly.offline.init_notebook_mode(connected=True)\n",
    "import plotly.graph_objs as go\n",
    "import warnings\n",
    "#sns.set(font_scale=1.5)\n",
    "warnings.filterwarnings(\"ignore\")"
   ]
  },
  {
   "cell_type": "code",
   "execution_count": 186,
   "id": "eea3e1eb-0e9b-4553-85cc-6077cf88755e",
   "metadata": {},
   "outputs": [
    {
     "name": "stdout",
     "output_type": "stream",
     "text": [
      "3.7.3\n",
      "0.12.2\n"
     ]
    }
   ],
   "source": [
    "print(mpl.__version__)\n",
    "print(sns.__version__)"
   ]
  },
  {
   "cell_type": "code",
   "execution_count": 187,
   "id": "19a2cd8e-83fb-4101-8e0a-87c0a87edba7",
   "metadata": {},
   "outputs": [],
   "source": [
    "df = pd.read_csv('rice_beef_coffee_price_changes.csv')"
   ]
  },
  {
   "cell_type": "code",
   "execution_count": 188,
   "id": "ee26a090-1694-4684-8a02-163a2a091d38",
   "metadata": {},
   "outputs": [
    {
     "data": {
      "text/html": [
       "<div>\n",
       "<style scoped>\n",
       "    .dataframe tbody tr th:only-of-type {\n",
       "        vertical-align: middle;\n",
       "    }\n",
       "\n",
       "    .dataframe tbody tr th {\n",
       "        vertical-align: top;\n",
       "    }\n",
       "\n",
       "    .dataframe thead th {\n",
       "        text-align: right;\n",
       "    }\n",
       "</style>\n",
       "<table border=\"1\" class=\"dataframe\">\n",
       "  <thead>\n",
       "    <tr style=\"text-align: right;\">\n",
       "      <th></th>\n",
       "      <th>Year</th>\n",
       "      <th>Month</th>\n",
       "      <th>Price_beef_kilo</th>\n",
       "      <th>Price_rice_kilo</th>\n",
       "      <th>Price_coffee_kilo</th>\n",
       "      <th>Inflation_rate</th>\n",
       "      <th>Price_rice_infl</th>\n",
       "      <th>Price_beef_infl</th>\n",
       "      <th>Price_coffee_infl</th>\n",
       "    </tr>\n",
       "  </thead>\n",
       "  <tbody>\n",
       "    <tr>\n",
       "      <th>0</th>\n",
       "      <td>1992</td>\n",
       "      <td>Feb</td>\n",
       "      <td>2.52</td>\n",
       "      <td>0.28</td>\n",
       "      <td>1.51</td>\n",
       "      <td>89.59</td>\n",
       "      <td>0.53</td>\n",
       "      <td>4.78</td>\n",
       "      <td>2.86</td>\n",
       "    </tr>\n",
       "    <tr>\n",
       "      <th>1</th>\n",
       "      <td>1992</td>\n",
       "      <td>Mar</td>\n",
       "      <td>2.45</td>\n",
       "      <td>0.28</td>\n",
       "      <td>1.55</td>\n",
       "      <td>89.59</td>\n",
       "      <td>0.53</td>\n",
       "      <td>4.64</td>\n",
       "      <td>2.94</td>\n",
       "    </tr>\n",
       "    <tr>\n",
       "      <th>2</th>\n",
       "      <td>1992</td>\n",
       "      <td>Apr</td>\n",
       "      <td>2.38</td>\n",
       "      <td>0.28</td>\n",
       "      <td>1.45</td>\n",
       "      <td>89.59</td>\n",
       "      <td>0.53</td>\n",
       "      <td>4.51</td>\n",
       "      <td>2.75</td>\n",
       "    </tr>\n",
       "    <tr>\n",
       "      <th>3</th>\n",
       "      <td>1992</td>\n",
       "      <td>May</td>\n",
       "      <td>2.38</td>\n",
       "      <td>0.27</td>\n",
       "      <td>1.34</td>\n",
       "      <td>89.59</td>\n",
       "      <td>0.51</td>\n",
       "      <td>4.51</td>\n",
       "      <td>2.54</td>\n",
       "    </tr>\n",
       "    <tr>\n",
       "      <th>4</th>\n",
       "      <td>1992</td>\n",
       "      <td>Jun</td>\n",
       "      <td>2.33</td>\n",
       "      <td>0.27</td>\n",
       "      <td>1.30</td>\n",
       "      <td>89.59</td>\n",
       "      <td>0.51</td>\n",
       "      <td>4.42</td>\n",
       "      <td>2.46</td>\n",
       "    </tr>\n",
       "    <tr>\n",
       "      <th>...</th>\n",
       "      <td>...</td>\n",
       "      <td>...</td>\n",
       "      <td>...</td>\n",
       "      <td>...</td>\n",
       "      <td>...</td>\n",
       "      <td>...</td>\n",
       "      <td>...</td>\n",
       "      <td>...</td>\n",
       "      <td>...</td>\n",
       "    </tr>\n",
       "    <tr>\n",
       "      <th>355</th>\n",
       "      <td>2021</td>\n",
       "      <td>Sep</td>\n",
       "      <td>5.66</td>\n",
       "      <td>0.40</td>\n",
       "      <td>4.97</td>\n",
       "      <td>-1.29</td>\n",
       "      <td>0.39</td>\n",
       "      <td>5.59</td>\n",
       "      <td>4.91</td>\n",
       "    </tr>\n",
       "    <tr>\n",
       "      <th>356</th>\n",
       "      <td>2021</td>\n",
       "      <td>Oct</td>\n",
       "      <td>5.70</td>\n",
       "      <td>0.40</td>\n",
       "      <td>5.31</td>\n",
       "      <td>-1.29</td>\n",
       "      <td>0.39</td>\n",
       "      <td>5.63</td>\n",
       "      <td>5.24</td>\n",
       "    </tr>\n",
       "    <tr>\n",
       "      <th>357</th>\n",
       "      <td>2021</td>\n",
       "      <td>Nov</td>\n",
       "      <td>5.95</td>\n",
       "      <td>0.40</td>\n",
       "      <td>5.71</td>\n",
       "      <td>-1.29</td>\n",
       "      <td>0.39</td>\n",
       "      <td>5.87</td>\n",
       "      <td>5.64</td>\n",
       "    </tr>\n",
       "    <tr>\n",
       "      <th>358</th>\n",
       "      <td>2021</td>\n",
       "      <td>Dec</td>\n",
       "      <td>5.95</td>\n",
       "      <td>0.40</td>\n",
       "      <td>5.91</td>\n",
       "      <td>-1.29</td>\n",
       "      <td>0.39</td>\n",
       "      <td>5.87</td>\n",
       "      <td>5.83</td>\n",
       "    </tr>\n",
       "    <tr>\n",
       "      <th>359</th>\n",
       "      <td>2022</td>\n",
       "      <td>Jan</td>\n",
       "      <td>5.97</td>\n",
       "      <td>0.43</td>\n",
       "      <td>5.98</td>\n",
       "      <td>NaN</td>\n",
       "      <td>NaN</td>\n",
       "      <td>NaN</td>\n",
       "      <td>NaN</td>\n",
       "    </tr>\n",
       "  </tbody>\n",
       "</table>\n",
       "<p>360 rows × 9 columns</p>\n",
       "</div>"
      ],
      "text/plain": [
       "     Year Month  Price_beef_kilo  Price_rice_kilo  Price_coffee_kilo  \\\n",
       "0    1992   Feb             2.52             0.28               1.51   \n",
       "1    1992   Mar             2.45             0.28               1.55   \n",
       "2    1992   Apr             2.38             0.28               1.45   \n",
       "3    1992   May             2.38             0.27               1.34   \n",
       "4    1992   Jun             2.33             0.27               1.30   \n",
       "..    ...   ...              ...              ...                ...   \n",
       "355  2021   Sep             5.66             0.40               4.97   \n",
       "356  2021   Oct             5.70             0.40               5.31   \n",
       "357  2021   Nov             5.95             0.40               5.71   \n",
       "358  2021   Dec             5.95             0.40               5.91   \n",
       "359  2022   Jan             5.97             0.43               5.98   \n",
       "\n",
       "     Inflation_rate  Price_rice_infl  Price_beef_infl  Price_coffee_infl  \n",
       "0             89.59             0.53             4.78               2.86  \n",
       "1             89.59             0.53             4.64               2.94  \n",
       "2             89.59             0.53             4.51               2.75  \n",
       "3             89.59             0.51             4.51               2.54  \n",
       "4             89.59             0.51             4.42               2.46  \n",
       "..              ...              ...              ...                ...  \n",
       "355           -1.29             0.39             5.59               4.91  \n",
       "356           -1.29             0.39             5.63               5.24  \n",
       "357           -1.29             0.39             5.87               5.64  \n",
       "358           -1.29             0.39             5.87               5.83  \n",
       "359             NaN              NaN              NaN                NaN  \n",
       "\n",
       "[360 rows x 9 columns]"
      ]
     },
     "execution_count": 188,
     "metadata": {},
     "output_type": "execute_result"
    }
   ],
   "source": [
    "df"
   ]
  },
  {
   "cell_type": "markdown",
   "id": "b4d391be-5578-4510-ae39-2d7ae0b17608",
   "metadata": {},
   "source": [
    "## Understanding Data"
   ]
  },
  {
   "cell_type": "code",
   "execution_count": 189,
   "id": "29f36d68-540a-4309-b60a-dd12b30614a4",
   "metadata": {},
   "outputs": [
    {
     "data": {
      "text/html": [
       "<div>\n",
       "<style scoped>\n",
       "    .dataframe tbody tr th:only-of-type {\n",
       "        vertical-align: middle;\n",
       "    }\n",
       "\n",
       "    .dataframe tbody tr th {\n",
       "        vertical-align: top;\n",
       "    }\n",
       "\n",
       "    .dataframe thead th {\n",
       "        text-align: right;\n",
       "    }\n",
       "</style>\n",
       "<table border=\"1\" class=\"dataframe\">\n",
       "  <thead>\n",
       "    <tr style=\"text-align: right;\">\n",
       "      <th></th>\n",
       "      <th>Year</th>\n",
       "      <th>Month</th>\n",
       "      <th>Price_beef_kilo</th>\n",
       "      <th>Price_rice_kilo</th>\n",
       "      <th>Price_coffee_kilo</th>\n",
       "      <th>Inflation_rate</th>\n",
       "      <th>Price_rice_infl</th>\n",
       "      <th>Price_beef_infl</th>\n",
       "      <th>Price_coffee_infl</th>\n",
       "    </tr>\n",
       "  </thead>\n",
       "  <tbody>\n",
       "    <tr>\n",
       "      <th>0</th>\n",
       "      <td>1992</td>\n",
       "      <td>Feb</td>\n",
       "      <td>2.52</td>\n",
       "      <td>0.28</td>\n",
       "      <td>1.51</td>\n",
       "      <td>89.59</td>\n",
       "      <td>0.53</td>\n",
       "      <td>4.78</td>\n",
       "      <td>2.86</td>\n",
       "    </tr>\n",
       "    <tr>\n",
       "      <th>1</th>\n",
       "      <td>1992</td>\n",
       "      <td>Mar</td>\n",
       "      <td>2.45</td>\n",
       "      <td>0.28</td>\n",
       "      <td>1.55</td>\n",
       "      <td>89.59</td>\n",
       "      <td>0.53</td>\n",
       "      <td>4.64</td>\n",
       "      <td>2.94</td>\n",
       "    </tr>\n",
       "    <tr>\n",
       "      <th>2</th>\n",
       "      <td>1992</td>\n",
       "      <td>Apr</td>\n",
       "      <td>2.38</td>\n",
       "      <td>0.28</td>\n",
       "      <td>1.45</td>\n",
       "      <td>89.59</td>\n",
       "      <td>0.53</td>\n",
       "      <td>4.51</td>\n",
       "      <td>2.75</td>\n",
       "    </tr>\n",
       "    <tr>\n",
       "      <th>3</th>\n",
       "      <td>1992</td>\n",
       "      <td>May</td>\n",
       "      <td>2.38</td>\n",
       "      <td>0.27</td>\n",
       "      <td>1.34</td>\n",
       "      <td>89.59</td>\n",
       "      <td>0.51</td>\n",
       "      <td>4.51</td>\n",
       "      <td>2.54</td>\n",
       "    </tr>\n",
       "    <tr>\n",
       "      <th>4</th>\n",
       "      <td>1992</td>\n",
       "      <td>Jun</td>\n",
       "      <td>2.33</td>\n",
       "      <td>0.27</td>\n",
       "      <td>1.30</td>\n",
       "      <td>89.59</td>\n",
       "      <td>0.51</td>\n",
       "      <td>4.42</td>\n",
       "      <td>2.46</td>\n",
       "    </tr>\n",
       "  </tbody>\n",
       "</table>\n",
       "</div>"
      ],
      "text/plain": [
       "   Year Month  Price_beef_kilo  Price_rice_kilo  Price_coffee_kilo  \\\n",
       "0  1992   Feb             2.52             0.28               1.51   \n",
       "1  1992   Mar             2.45             0.28               1.55   \n",
       "2  1992   Apr             2.38             0.28               1.45   \n",
       "3  1992   May             2.38             0.27               1.34   \n",
       "4  1992   Jun             2.33             0.27               1.30   \n",
       "\n",
       "   Inflation_rate  Price_rice_infl  Price_beef_infl  Price_coffee_infl  \n",
       "0           89.59             0.53             4.78               2.86  \n",
       "1           89.59             0.53             4.64               2.94  \n",
       "2           89.59             0.53             4.51               2.75  \n",
       "3           89.59             0.51             4.51               2.54  \n",
       "4           89.59             0.51             4.42               2.46  "
      ]
     },
     "execution_count": 189,
     "metadata": {},
     "output_type": "execute_result"
    }
   ],
   "source": [
    "df.head()"
   ]
  },
  {
   "cell_type": "code",
   "execution_count": 190,
   "id": "ced3f9c4-eabc-4eff-aaeb-e9f589a91d35",
   "metadata": {},
   "outputs": [
    {
     "data": {
      "text/html": [
       "<div>\n",
       "<style scoped>\n",
       "    .dataframe tbody tr th:only-of-type {\n",
       "        vertical-align: middle;\n",
       "    }\n",
       "\n",
       "    .dataframe tbody tr th {\n",
       "        vertical-align: top;\n",
       "    }\n",
       "\n",
       "    .dataframe thead th {\n",
       "        text-align: right;\n",
       "    }\n",
       "</style>\n",
       "<table border=\"1\" class=\"dataframe\">\n",
       "  <thead>\n",
       "    <tr style=\"text-align: right;\">\n",
       "      <th></th>\n",
       "      <th>Year</th>\n",
       "      <th>Month</th>\n",
       "      <th>Price_beef_kilo</th>\n",
       "      <th>Price_rice_kilo</th>\n",
       "      <th>Price_coffee_kilo</th>\n",
       "      <th>Inflation_rate</th>\n",
       "      <th>Price_rice_infl</th>\n",
       "      <th>Price_beef_infl</th>\n",
       "      <th>Price_coffee_infl</th>\n",
       "    </tr>\n",
       "  </thead>\n",
       "  <tbody>\n",
       "    <tr>\n",
       "      <th>359</th>\n",
       "      <td>2022</td>\n",
       "      <td>Jan</td>\n",
       "      <td>5.97</td>\n",
       "      <td>0.43</td>\n",
       "      <td>5.98</td>\n",
       "      <td>NaN</td>\n",
       "      <td>NaN</td>\n",
       "      <td>NaN</td>\n",
       "      <td>NaN</td>\n",
       "    </tr>\n",
       "  </tbody>\n",
       "</table>\n",
       "</div>"
      ],
      "text/plain": [
       "     Year Month  Price_beef_kilo  Price_rice_kilo  Price_coffee_kilo  \\\n",
       "359  2022   Jan             5.97             0.43               5.98   \n",
       "\n",
       "     Inflation_rate  Price_rice_infl  Price_beef_infl  Price_coffee_infl  \n",
       "359             NaN              NaN              NaN                NaN  "
      ]
     },
     "execution_count": 190,
     "metadata": {},
     "output_type": "execute_result"
    }
   ],
   "source": [
    "df[df['Year']==2022]"
   ]
  },
  {
   "cell_type": "code",
   "execution_count": 191,
   "id": "4db84d2e-9527-4078-9294-06361c0c213c",
   "metadata": {},
   "outputs": [
    {
     "name": "stdout",
     "output_type": "stream",
     "text": [
      "<class 'pandas.core.frame.DataFrame'>\n",
      "RangeIndex: 360 entries, 0 to 359\n",
      "Data columns (total 9 columns):\n",
      " #   Column             Non-Null Count  Dtype  \n",
      "---  ------             --------------  -----  \n",
      " 0   Year               360 non-null    int64  \n",
      " 1   Month              360 non-null    object \n",
      " 2   Price_beef_kilo    360 non-null    float64\n",
      " 3   Price_rice_kilo    360 non-null    float64\n",
      " 4   Price_coffee_kilo  360 non-null    float64\n",
      " 5   Inflation_rate     347 non-null    float64\n",
      " 6   Price_rice_infl    347 non-null    float64\n",
      " 7   Price_beef_infl    347 non-null    float64\n",
      " 8   Price_coffee_infl  347 non-null    float64\n",
      "dtypes: float64(7), int64(1), object(1)\n",
      "memory usage: 25.4+ KB\n"
     ]
    }
   ],
   "source": [
    "df.info()"
   ]
  },
  {
   "cell_type": "code",
   "execution_count": 192,
   "id": "3811cc2a-3ad4-4d3f-9483-a1c28b495828",
   "metadata": {},
   "outputs": [
    {
     "data": {
      "text/plain": [
       "(360, 9)"
      ]
     },
     "execution_count": 192,
     "metadata": {},
     "output_type": "execute_result"
    }
   ],
   "source": [
    "\n",
    "rows= df.shape[0]\n",
    "cols= df.shape[1]\n",
    "df.shape"
   ]
  },
  {
   "cell_type": "code",
   "execution_count": 193,
   "id": "a0be5d60-fa78-43f5-bffa-1f7b276c4130",
   "metadata": {},
   "outputs": [
    {
     "data": {
      "text/html": [
       "<div>\n",
       "<style scoped>\n",
       "    .dataframe tbody tr th:only-of-type {\n",
       "        vertical-align: middle;\n",
       "    }\n",
       "\n",
       "    .dataframe tbody tr th {\n",
       "        vertical-align: top;\n",
       "    }\n",
       "\n",
       "    .dataframe thead th {\n",
       "        text-align: right;\n",
       "    }\n",
       "</style>\n",
       "<table border=\"1\" class=\"dataframe\">\n",
       "  <thead>\n",
       "    <tr style=\"text-align: right;\">\n",
       "      <th></th>\n",
       "      <th>Year</th>\n",
       "      <th>Price_beef_kilo</th>\n",
       "      <th>Price_rice_kilo</th>\n",
       "      <th>Price_coffee_kilo</th>\n",
       "      <th>Inflation_rate</th>\n",
       "      <th>Price_rice_infl</th>\n",
       "      <th>Price_beef_infl</th>\n",
       "      <th>Price_coffee_infl</th>\n",
       "    </tr>\n",
       "  </thead>\n",
       "  <tbody>\n",
       "    <tr>\n",
       "      <th>count</th>\n",
       "      <td>360.000000</td>\n",
       "      <td>360.000000</td>\n",
       "      <td>360.000000</td>\n",
       "      <td>360.000000</td>\n",
       "      <td>347.000000</td>\n",
       "      <td>347.000000</td>\n",
       "      <td>347.000000</td>\n",
       "      <td>347.000000</td>\n",
       "    </tr>\n",
       "    <tr>\n",
       "      <th>mean</th>\n",
       "      <td>2006.583333</td>\n",
       "      <td>3.152056</td>\n",
       "      <td>0.364083</td>\n",
       "      <td>2.999722</td>\n",
       "      <td>36.320029</td>\n",
       "      <td>0.476167</td>\n",
       "      <td>4.044006</td>\n",
       "      <td>3.953660</td>\n",
       "    </tr>\n",
       "    <tr>\n",
       "      <th>std</th>\n",
       "      <td>8.671906</td>\n",
       "      <td>1.167673</td>\n",
       "      <td>0.131201</td>\n",
       "      <td>1.164001</td>\n",
       "      <td>27.062804</td>\n",
       "      <td>0.135525</td>\n",
       "      <td>0.900393</td>\n",
       "      <td>1.460999</td>\n",
       "    </tr>\n",
       "    <tr>\n",
       "      <th>min</th>\n",
       "      <td>1992.000000</td>\n",
       "      <td>1.630000</td>\n",
       "      <td>0.160000</td>\n",
       "      <td>1.170000</td>\n",
       "      <td>-1.290000</td>\n",
       "      <td>0.240000</td>\n",
       "      <td>2.680000</td>\n",
       "      <td>1.770000</td>\n",
       "    </tr>\n",
       "    <tr>\n",
       "      <th>25%</th>\n",
       "      <td>1999.000000</td>\n",
       "      <td>2.117500</td>\n",
       "      <td>0.260000</td>\n",
       "      <td>2.265000</td>\n",
       "      <td>12.370000</td>\n",
       "      <td>0.390000</td>\n",
       "      <td>3.185000</td>\n",
       "      <td>3.065000</td>\n",
       "    </tr>\n",
       "    <tr>\n",
       "      <th>50%</th>\n",
       "      <td>2007.000000</td>\n",
       "      <td>2.730000</td>\n",
       "      <td>0.345000</td>\n",
       "      <td>2.940000</td>\n",
       "      <td>28.300000</td>\n",
       "      <td>0.460000</td>\n",
       "      <td>4.090000</td>\n",
       "      <td>3.680000</td>\n",
       "    </tr>\n",
       "    <tr>\n",
       "      <th>75%</th>\n",
       "      <td>2014.000000</td>\n",
       "      <td>4.220000</td>\n",
       "      <td>0.440000</td>\n",
       "      <td>3.605000</td>\n",
       "      <td>59.700000</td>\n",
       "      <td>0.550000</td>\n",
       "      <td>4.735000</td>\n",
       "      <td>4.565000</td>\n",
       "    </tr>\n",
       "    <tr>\n",
       "      <th>max</th>\n",
       "      <td>2022.000000</td>\n",
       "      <td>6.170000</td>\n",
       "      <td>0.910000</td>\n",
       "      <td>6.620000</td>\n",
       "      <td>89.590000</td>\n",
       "      <td>1.120000</td>\n",
       "      <td>6.930000</td>\n",
       "      <td>9.760000</td>\n",
       "    </tr>\n",
       "  </tbody>\n",
       "</table>\n",
       "</div>"
      ],
      "text/plain": [
       "              Year  Price_beef_kilo  Price_rice_kilo  Price_coffee_kilo  \\\n",
       "count   360.000000       360.000000       360.000000         360.000000   \n",
       "mean   2006.583333         3.152056         0.364083           2.999722   \n",
       "std       8.671906         1.167673         0.131201           1.164001   \n",
       "min    1992.000000         1.630000         0.160000           1.170000   \n",
       "25%    1999.000000         2.117500         0.260000           2.265000   \n",
       "50%    2007.000000         2.730000         0.345000           2.940000   \n",
       "75%    2014.000000         4.220000         0.440000           3.605000   \n",
       "max    2022.000000         6.170000         0.910000           6.620000   \n",
       "\n",
       "       Inflation_rate  Price_rice_infl  Price_beef_infl  Price_coffee_infl  \n",
       "count      347.000000       347.000000       347.000000         347.000000  \n",
       "mean        36.320029         0.476167         4.044006           3.953660  \n",
       "std         27.062804         0.135525         0.900393           1.460999  \n",
       "min         -1.290000         0.240000         2.680000           1.770000  \n",
       "25%         12.370000         0.390000         3.185000           3.065000  \n",
       "50%         28.300000         0.460000         4.090000           3.680000  \n",
       "75%         59.700000         0.550000         4.735000           4.565000  \n",
       "max         89.590000         1.120000         6.930000           9.760000  "
      ]
     },
     "execution_count": 193,
     "metadata": {},
     "output_type": "execute_result"
    }
   ],
   "source": [
    "df.describe()"
   ]
  },
  {
   "cell_type": "markdown",
   "id": "1d851538-0031-4f69-969f-610eb8d3a7d2",
   "metadata": {},
   "source": [
    "##### Lets Explore all the columns Meaning"
   ]
  },
  {
   "cell_type": "code",
   "execution_count": 194,
   "id": "aba0d4e6-c66f-40fe-a826-0aa1c25ef1ac",
   "metadata": {},
   "outputs": [
    {
     "data": {
      "text/plain": [
       "Index(['Year', 'Month', 'Price_beef_kilo', 'Price_rice_kilo',\n",
       "       'Price_coffee_kilo', 'Inflation_rate', 'Price_rice_infl',\n",
       "       'Price_beef_infl', 'Price_coffee_infl'],\n",
       "      dtype='object')"
      ]
     },
     "execution_count": 194,
     "metadata": {},
     "output_type": "execute_result"
    }
   ],
   "source": [
    "df.columns"
   ]
  },
  {
   "cell_type": "code",
   "execution_count": null,
   "id": "8447ffee-7261-4bb7-b9a5-dabe9cab96fb",
   "metadata": {},
   "outputs": [],
   "source": []
  },
  {
   "cell_type": "markdown",
   "id": "f2882e54-76ee-4835-a61a-b344e8e1c5f4",
   "metadata": {},
   "source": [
    "1. **Year**= Year of a Product's Price\n",
    "2. **Month**= Month of a Product's Price It's in the Object Type. Not in Numerical format.\n",
    "3. **Price_beef_kilo**= 1 kilo Beef Price in USD.\n",
    "4. **Price_rice_kilo**= 1 kilo Rice Price in USD.\n",
    "5. **Price_coffee_kilo**= 1 kilo Coffe Price in USD.\n",
    "6. **Inflation_rate** = Rate of Inflation in the Year's Month\n",
    "7. **Price_rice_infl**= Price of 1 Kilo of Rice in USD (Adjusted for inflation)\n",
    "8. **Price_beef_infl**= Price of 1 Kilo of Beef in USD (Adjusted for inflation)\n",
    "9. **Price_coffee_infl**= Price of 1 Kilo of Coffee in USD (Adjusted for inflation)\n"
   ]
  },
  {
   "cell_type": "markdown",
   "id": "f1e49905-49fd-4b25-ac56-43b1529acf7b",
   "metadata": {},
   "source": [
    "## Cleaning of Data"
   ]
  },
  {
   "cell_type": "markdown",
   "id": "3a7ac4f3-baa8-4e6d-9bd2-7aec10073772",
   "metadata": {},
   "source": [
    "### NULL VALUES"
   ]
  },
  {
   "cell_type": "markdown",
   "id": "40b4a54c-1342-4b77-b54b-8b0b5a38f837",
   "metadata": {},
   "source": [
    "YEAR"
   ]
  },
  {
   "cell_type": "code",
   "execution_count": 195,
   "id": "46b6e48b-43ec-4f2b-a485-e076d84de85c",
   "metadata": {},
   "outputs": [
    {
     "data": {
      "text/html": [
       "<div>\n",
       "<style scoped>\n",
       "    .dataframe tbody tr th:only-of-type {\n",
       "        vertical-align: middle;\n",
       "    }\n",
       "\n",
       "    .dataframe tbody tr th {\n",
       "        vertical-align: top;\n",
       "    }\n",
       "\n",
       "    .dataframe thead th {\n",
       "        text-align: right;\n",
       "    }\n",
       "</style>\n",
       "<table border=\"1\" class=\"dataframe\">\n",
       "  <thead>\n",
       "    <tr style=\"text-align: right;\">\n",
       "      <th></th>\n",
       "      <th>Year</th>\n",
       "      <th>Month</th>\n",
       "      <th>Price_beef_kilo</th>\n",
       "      <th>Price_rice_kilo</th>\n",
       "      <th>Price_coffee_kilo</th>\n",
       "      <th>Inflation_rate</th>\n",
       "      <th>Price_rice_infl</th>\n",
       "      <th>Price_beef_infl</th>\n",
       "      <th>Price_coffee_infl</th>\n",
       "    </tr>\n",
       "  </thead>\n",
       "  <tbody>\n",
       "  </tbody>\n",
       "</table>\n",
       "</div>"
      ],
      "text/plain": [
       "Empty DataFrame\n",
       "Columns: [Year, Month, Price_beef_kilo, Price_rice_kilo, Price_coffee_kilo, Inflation_rate, Price_rice_infl, Price_beef_infl, Price_coffee_infl]\n",
       "Index: []"
      ]
     },
     "execution_count": 195,
     "metadata": {},
     "output_type": "execute_result"
    }
   ],
   "source": [
    "df[df['Year'].isnull()]"
   ]
  },
  {
   "cell_type": "code",
   "execution_count": null,
   "id": "bce9a504-abaf-4611-9501-cf1fc4596d01",
   "metadata": {},
   "outputs": [],
   "source": []
  },
  {
   "cell_type": "code",
   "execution_count": 196,
   "id": "2f5a133e-f731-4419-81b6-b51e49e9816e",
   "metadata": {},
   "outputs": [
    {
     "data": {
      "text/html": [
       "<div>\n",
       "<style scoped>\n",
       "    .dataframe tbody tr th:only-of-type {\n",
       "        vertical-align: middle;\n",
       "    }\n",
       "\n",
       "    .dataframe tbody tr th {\n",
       "        vertical-align: top;\n",
       "    }\n",
       "\n",
       "    .dataframe thead th {\n",
       "        text-align: right;\n",
       "    }\n",
       "</style>\n",
       "<table border=\"1\" class=\"dataframe\">\n",
       "  <thead>\n",
       "    <tr style=\"text-align: right;\">\n",
       "      <th></th>\n",
       "      <th>Year</th>\n",
       "      <th>Month</th>\n",
       "      <th>Price_beef_kilo</th>\n",
       "      <th>Price_rice_kilo</th>\n",
       "      <th>Price_coffee_kilo</th>\n",
       "      <th>Inflation_rate</th>\n",
       "      <th>Price_rice_infl</th>\n",
       "      <th>Price_beef_infl</th>\n",
       "      <th>Price_coffee_infl</th>\n",
       "    </tr>\n",
       "  </thead>\n",
       "  <tbody>\n",
       "  </tbody>\n",
       "</table>\n",
       "</div>"
      ],
      "text/plain": [
       "Empty DataFrame\n",
       "Columns: [Year, Month, Price_beef_kilo, Price_rice_kilo, Price_coffee_kilo, Inflation_rate, Price_rice_infl, Price_beef_infl, Price_coffee_infl]\n",
       "Index: []"
      ]
     },
     "execution_count": 196,
     "metadata": {},
     "output_type": "execute_result"
    }
   ],
   "source": [
    "df[df['Month'].isnull()]"
   ]
  },
  {
   "cell_type": "markdown",
   "id": "90a89a29-e237-45bc-8983-b6ebb125ba16",
   "metadata": {},
   "source": [
    "Price_beef_kilo"
   ]
  },
  {
   "cell_type": "code",
   "execution_count": 197,
   "id": "ffa3904e-8206-4ea6-a612-aeaac5e7c48e",
   "metadata": {},
   "outputs": [
    {
     "data": {
      "text/html": [
       "<div>\n",
       "<style scoped>\n",
       "    .dataframe tbody tr th:only-of-type {\n",
       "        vertical-align: middle;\n",
       "    }\n",
       "\n",
       "    .dataframe tbody tr th {\n",
       "        vertical-align: top;\n",
       "    }\n",
       "\n",
       "    .dataframe thead th {\n",
       "        text-align: right;\n",
       "    }\n",
       "</style>\n",
       "<table border=\"1\" class=\"dataframe\">\n",
       "  <thead>\n",
       "    <tr style=\"text-align: right;\">\n",
       "      <th></th>\n",
       "      <th>Year</th>\n",
       "      <th>Month</th>\n",
       "      <th>Price_beef_kilo</th>\n",
       "      <th>Price_rice_kilo</th>\n",
       "      <th>Price_coffee_kilo</th>\n",
       "      <th>Inflation_rate</th>\n",
       "      <th>Price_rice_infl</th>\n",
       "      <th>Price_beef_infl</th>\n",
       "      <th>Price_coffee_infl</th>\n",
       "    </tr>\n",
       "  </thead>\n",
       "  <tbody>\n",
       "  </tbody>\n",
       "</table>\n",
       "</div>"
      ],
      "text/plain": [
       "Empty DataFrame\n",
       "Columns: [Year, Month, Price_beef_kilo, Price_rice_kilo, Price_coffee_kilo, Inflation_rate, Price_rice_infl, Price_beef_infl, Price_coffee_infl]\n",
       "Index: []"
      ]
     },
     "execution_count": 197,
     "metadata": {},
     "output_type": "execute_result"
    }
   ],
   "source": [
    "df[df['Price_beef_kilo'].isnull()]"
   ]
  },
  {
   "cell_type": "markdown",
   "id": "f0e862dc-e644-4041-bd0c-831c8a6756e7",
   "metadata": {},
   "source": [
    "Inflation_rate"
   ]
  },
  {
   "cell_type": "markdown",
   "id": "ee0cc876-883d-4a87-990f-4ff93dc1e42a",
   "metadata": {},
   "source": [
    "LETS MAKE A FUNCTION THAT GIVES US NULL VALUES INFO"
   ]
  },
  {
   "cell_type": "code",
   "execution_count": 198,
   "id": "7bb20197-5872-41e5-b9d9-b7a9c9c91a61",
   "metadata": {},
   "outputs": [],
   "source": [
    "def nullfunc(a):\n",
    "    temp = pd.DataFrame(index=a.columns)\n",
    "    temp['not_null_values']= a.count()\n",
    "    temp['null_values']=a.isnull().sum()\n",
    "    temp['unique']= a.nunique()\n",
    "    return temp"
   ]
  },
  {
   "cell_type": "code",
   "execution_count": 199,
   "id": "99046114-ac21-4f1a-9d11-0e4eecdcfe3b",
   "metadata": {},
   "outputs": [
    {
     "data": {
      "text/html": [
       "<div>\n",
       "<style scoped>\n",
       "    .dataframe tbody tr th:only-of-type {\n",
       "        vertical-align: middle;\n",
       "    }\n",
       "\n",
       "    .dataframe tbody tr th {\n",
       "        vertical-align: top;\n",
       "    }\n",
       "\n",
       "    .dataframe thead th {\n",
       "        text-align: right;\n",
       "    }\n",
       "</style>\n",
       "<table border=\"1\" class=\"dataframe\">\n",
       "  <thead>\n",
       "    <tr style=\"text-align: right;\">\n",
       "      <th></th>\n",
       "      <th>not_null_values</th>\n",
       "      <th>null_values</th>\n",
       "      <th>unique</th>\n",
       "    </tr>\n",
       "  </thead>\n",
       "  <tbody>\n",
       "    <tr>\n",
       "      <th>Year</th>\n",
       "      <td>360</td>\n",
       "      <td>0</td>\n",
       "      <td>31</td>\n",
       "    </tr>\n",
       "    <tr>\n",
       "      <th>Month</th>\n",
       "      <td>360</td>\n",
       "      <td>0</td>\n",
       "      <td>12</td>\n",
       "    </tr>\n",
       "    <tr>\n",
       "      <th>Price_beef_kilo</th>\n",
       "      <td>360</td>\n",
       "      <td>0</td>\n",
       "      <td>201</td>\n",
       "    </tr>\n",
       "    <tr>\n",
       "      <th>Price_rice_kilo</th>\n",
       "      <td>360</td>\n",
       "      <td>0</td>\n",
       "      <td>53</td>\n",
       "    </tr>\n",
       "    <tr>\n",
       "      <th>Price_coffee_kilo</th>\n",
       "      <td>360</td>\n",
       "      <td>0</td>\n",
       "      <td>227</td>\n",
       "    </tr>\n",
       "    <tr>\n",
       "      <th>Inflation_rate</th>\n",
       "      <td>347</td>\n",
       "      <td>13</td>\n",
       "      <td>29</td>\n",
       "    </tr>\n",
       "    <tr>\n",
       "      <th>Price_rice_infl</th>\n",
       "      <td>347</td>\n",
       "      <td>13</td>\n",
       "      <td>55</td>\n",
       "    </tr>\n",
       "    <tr>\n",
       "      <th>Price_beef_infl</th>\n",
       "      <td>347</td>\n",
       "      <td>13</td>\n",
       "      <td>192</td>\n",
       "    </tr>\n",
       "    <tr>\n",
       "      <th>Price_coffee_infl</th>\n",
       "      <td>347</td>\n",
       "      <td>13</td>\n",
       "      <td>241</td>\n",
       "    </tr>\n",
       "  </tbody>\n",
       "</table>\n",
       "</div>"
      ],
      "text/plain": [
       "                   not_null_values  null_values  unique\n",
       "Year                           360            0      31\n",
       "Month                          360            0      12\n",
       "Price_beef_kilo                360            0     201\n",
       "Price_rice_kilo                360            0      53\n",
       "Price_coffee_kilo              360            0     227\n",
       "Inflation_rate                 347           13      29\n",
       "Price_rice_infl                347           13      55\n",
       "Price_beef_infl                347           13     192\n",
       "Price_coffee_infl              347           13     241"
      ]
     },
     "execution_count": 199,
     "metadata": {},
     "output_type": "execute_result"
    }
   ],
   "source": [
    "nullfunc(df)"
   ]
  },
  {
   "cell_type": "code",
   "execution_count": 200,
   "id": "eccc0c47-da13-43ed-b63e-650a08733057",
   "metadata": {},
   "outputs": [
    {
     "data": {
      "text/html": [
       "<div>\n",
       "<style scoped>\n",
       "    .dataframe tbody tr th:only-of-type {\n",
       "        vertical-align: middle;\n",
       "    }\n",
       "\n",
       "    .dataframe tbody tr th {\n",
       "        vertical-align: top;\n",
       "    }\n",
       "\n",
       "    .dataframe thead th {\n",
       "        text-align: right;\n",
       "    }\n",
       "</style>\n",
       "<table border=\"1\" class=\"dataframe\">\n",
       "  <thead>\n",
       "    <tr style=\"text-align: right;\">\n",
       "      <th></th>\n",
       "      <th>Year</th>\n",
       "      <th>Month</th>\n",
       "      <th>Price_beef_kilo</th>\n",
       "      <th>Price_rice_kilo</th>\n",
       "      <th>Price_coffee_kilo</th>\n",
       "      <th>Inflation_rate</th>\n",
       "      <th>Price_rice_infl</th>\n",
       "      <th>Price_beef_infl</th>\n",
       "      <th>Price_coffee_infl</th>\n",
       "    </tr>\n",
       "  </thead>\n",
       "  <tbody>\n",
       "    <tr>\n",
       "      <th>167</th>\n",
       "      <td>2006</td>\n",
       "      <td>Jan</td>\n",
       "      <td>2.62</td>\n",
       "      <td>0.29</td>\n",
       "      <td>2.74</td>\n",
       "      <td>NaN</td>\n",
       "      <td>NaN</td>\n",
       "      <td>NaN</td>\n",
       "      <td>NaN</td>\n",
       "    </tr>\n",
       "    <tr>\n",
       "      <th>168</th>\n",
       "      <td>2006</td>\n",
       "      <td>Feb</td>\n",
       "      <td>2.65</td>\n",
       "      <td>0.30</td>\n",
       "      <td>2.63</td>\n",
       "      <td>NaN</td>\n",
       "      <td>NaN</td>\n",
       "      <td>NaN</td>\n",
       "      <td>NaN</td>\n",
       "    </tr>\n",
       "    <tr>\n",
       "      <th>169</th>\n",
       "      <td>2006</td>\n",
       "      <td>Mar</td>\n",
       "      <td>2.62</td>\n",
       "      <td>0.30</td>\n",
       "      <td>2.51</td>\n",
       "      <td>NaN</td>\n",
       "      <td>NaN</td>\n",
       "      <td>NaN</td>\n",
       "      <td>NaN</td>\n",
       "    </tr>\n",
       "    <tr>\n",
       "      <th>170</th>\n",
       "      <td>2006</td>\n",
       "      <td>Apr</td>\n",
       "      <td>2.60</td>\n",
       "      <td>0.30</td>\n",
       "      <td>2.54</td>\n",
       "      <td>NaN</td>\n",
       "      <td>NaN</td>\n",
       "      <td>NaN</td>\n",
       "      <td>NaN</td>\n",
       "    </tr>\n",
       "    <tr>\n",
       "      <th>171</th>\n",
       "      <td>2006</td>\n",
       "      <td>May</td>\n",
       "      <td>2.62</td>\n",
       "      <td>0.31</td>\n",
       "      <td>2.41</td>\n",
       "      <td>NaN</td>\n",
       "      <td>NaN</td>\n",
       "      <td>NaN</td>\n",
       "      <td>NaN</td>\n",
       "    </tr>\n",
       "    <tr>\n",
       "      <th>172</th>\n",
       "      <td>2006</td>\n",
       "      <td>Jun</td>\n",
       "      <td>2.57</td>\n",
       "      <td>0.31</td>\n",
       "      <td>2.27</td>\n",
       "      <td>NaN</td>\n",
       "      <td>NaN</td>\n",
       "      <td>NaN</td>\n",
       "      <td>NaN</td>\n",
       "    </tr>\n",
       "    <tr>\n",
       "      <th>173</th>\n",
       "      <td>2006</td>\n",
       "      <td>Jul</td>\n",
       "      <td>2.62</td>\n",
       "      <td>0.32</td>\n",
       "      <td>2.31</td>\n",
       "      <td>NaN</td>\n",
       "      <td>NaN</td>\n",
       "      <td>NaN</td>\n",
       "      <td>NaN</td>\n",
       "    </tr>\n",
       "    <tr>\n",
       "      <th>174</th>\n",
       "      <td>2006</td>\n",
       "      <td>Aug</td>\n",
       "      <td>2.66</td>\n",
       "      <td>0.31</td>\n",
       "      <td>2.46</td>\n",
       "      <td>NaN</td>\n",
       "      <td>NaN</td>\n",
       "      <td>NaN</td>\n",
       "      <td>NaN</td>\n",
       "    </tr>\n",
       "    <tr>\n",
       "      <th>175</th>\n",
       "      <td>2006</td>\n",
       "      <td>Sep</td>\n",
       "      <td>2.68</td>\n",
       "      <td>0.31</td>\n",
       "      <td>2.42</td>\n",
       "      <td>NaN</td>\n",
       "      <td>NaN</td>\n",
       "      <td>NaN</td>\n",
       "      <td>NaN</td>\n",
       "    </tr>\n",
       "    <tr>\n",
       "      <th>176</th>\n",
       "      <td>2006</td>\n",
       "      <td>Oct</td>\n",
       "      <td>2.69</td>\n",
       "      <td>0.30</td>\n",
       "      <td>2.44</td>\n",
       "      <td>NaN</td>\n",
       "      <td>NaN</td>\n",
       "      <td>NaN</td>\n",
       "      <td>NaN</td>\n",
       "    </tr>\n",
       "    <tr>\n",
       "      <th>177</th>\n",
       "      <td>2006</td>\n",
       "      <td>Nov</td>\n",
       "      <td>2.77</td>\n",
       "      <td>0.30</td>\n",
       "      <td>2.70</td>\n",
       "      <td>NaN</td>\n",
       "      <td>NaN</td>\n",
       "      <td>NaN</td>\n",
       "      <td>NaN</td>\n",
       "    </tr>\n",
       "    <tr>\n",
       "      <th>178</th>\n",
       "      <td>2006</td>\n",
       "      <td>Dec</td>\n",
       "      <td>2.70</td>\n",
       "      <td>0.30</td>\n",
       "      <td>2.83</td>\n",
       "      <td>NaN</td>\n",
       "      <td>NaN</td>\n",
       "      <td>NaN</td>\n",
       "      <td>NaN</td>\n",
       "    </tr>\n",
       "    <tr>\n",
       "      <th>359</th>\n",
       "      <td>2022</td>\n",
       "      <td>Jan</td>\n",
       "      <td>5.97</td>\n",
       "      <td>0.43</td>\n",
       "      <td>5.98</td>\n",
       "      <td>NaN</td>\n",
       "      <td>NaN</td>\n",
       "      <td>NaN</td>\n",
       "      <td>NaN</td>\n",
       "    </tr>\n",
       "  </tbody>\n",
       "</table>\n",
       "</div>"
      ],
      "text/plain": [
       "     Year Month  Price_beef_kilo  Price_rice_kilo  Price_coffee_kilo  \\\n",
       "167  2006   Jan             2.62             0.29               2.74   \n",
       "168  2006   Feb             2.65             0.30               2.63   \n",
       "169  2006   Mar             2.62             0.30               2.51   \n",
       "170  2006   Apr             2.60             0.30               2.54   \n",
       "171  2006   May             2.62             0.31               2.41   \n",
       "172  2006   Jun             2.57             0.31               2.27   \n",
       "173  2006   Jul             2.62             0.32               2.31   \n",
       "174  2006   Aug             2.66             0.31               2.46   \n",
       "175  2006   Sep             2.68             0.31               2.42   \n",
       "176  2006   Oct             2.69             0.30               2.44   \n",
       "177  2006   Nov             2.77             0.30               2.70   \n",
       "178  2006   Dec             2.70             0.30               2.83   \n",
       "359  2022   Jan             5.97             0.43               5.98   \n",
       "\n",
       "     Inflation_rate  Price_rice_infl  Price_beef_infl  Price_coffee_infl  \n",
       "167             NaN              NaN              NaN                NaN  \n",
       "168             NaN              NaN              NaN                NaN  \n",
       "169             NaN              NaN              NaN                NaN  \n",
       "170             NaN              NaN              NaN                NaN  \n",
       "171             NaN              NaN              NaN                NaN  \n",
       "172             NaN              NaN              NaN                NaN  \n",
       "173             NaN              NaN              NaN                NaN  \n",
       "174             NaN              NaN              NaN                NaN  \n",
       "175             NaN              NaN              NaN                NaN  \n",
       "176             NaN              NaN              NaN                NaN  \n",
       "177             NaN              NaN              NaN                NaN  \n",
       "178             NaN              NaN              NaN                NaN  \n",
       "359             NaN              NaN              NaN                NaN  "
      ]
     },
     "execution_count": 200,
     "metadata": {},
     "output_type": "execute_result"
    }
   ],
   "source": [
    "df[df['Inflation_rate'].isnull()]"
   ]
  },
  {
   "cell_type": "markdown",
   "id": "14bee1fd-c735-4d64-9253-68b7ba98d1e5",
   "metadata": {},
   "source": [
    "##### Now there are 12 rows of Year 2006 and 1 row of year 2022 having Null values in all the 4 columns 'Inflation_rate,\tPrice_rice_infl,\tPrice_beef_infl,\tPrice_coffee_infl'. Replacing them with Mean and Median Value of a Column will be Inappropriate. \n"
   ]
  },
  {
   "cell_type": "code",
   "execution_count": 201,
   "id": "05a501db-5b41-4dd2-bc01-b3465a0356b7",
   "metadata": {},
   "outputs": [
    {
     "data": {
      "text/plain": [
       "array([1992, 1993, 1994, 1995, 1996, 1997, 1998, 1999, 2000, 2001, 2002,\n",
       "       2003, 2004, 2005, 2006, 2007, 2008, 2009, 2010, 2011, 2012, 2013,\n",
       "       2014, 2015, 2016, 2017, 2018, 2019, 2020, 2021, 2022], dtype=int64)"
      ]
     },
     "execution_count": 201,
     "metadata": {},
     "output_type": "execute_result"
    }
   ],
   "source": [
    "df['Year'].unique()"
   ]
  },
  {
   "cell_type": "code",
   "execution_count": null,
   "id": "6eff904c-cf67-43e1-ba16-293bb073101f",
   "metadata": {},
   "outputs": [],
   "source": []
  },
  {
   "cell_type": "markdown",
   "id": "8cf57b15-f408-41fc-a65a-955c6e800cfe",
   "metadata": {},
   "source": [
    "#### Now Here I am assuming this Data about Inflation in the Particular Year will be available On Internet. So, taking from there.\n",
    "\n",
    "-Since The DataSet was Last Update in 2022. Hence taking Inflation on 2022 Year basis."
   ]
  },
  {
   "cell_type": "markdown",
   "id": "2c715a16-419e-4263-9570-1133368d38c1",
   "metadata": {},
   "source": [
    ". Inflation Rate in 2006 = ((CPI in 2022 − CPI in 2006)/ CPI in 2006) * 100 \\\n",
    ". ​Inflation Rate 2006 = 45.56%            "
   ]
  },
  {
   "cell_type": "markdown",
   "id": "042ab535-3232-46bc-abcd-dadc7ab42e6f",
   "metadata": {},
   "source": [
    ". Inflation Rate in 2022 = ((CPI in 2022 − CPI in 2022)/ CPI in 2022) * 100 \\\n",
    ". ​Inflation Rate 2006 = 0.00%     "
   ]
  },
  {
   "cell_type": "code",
   "execution_count": 202,
   "id": "841f02a1-2116-402d-8f87-b5ace0e095ab",
   "metadata": {},
   "outputs": [],
   "source": [
    "df['Inflation_rate'].fillna('45.56', inplace=True)\n",
    "df.loc[359,['Inflation_rate']]= 0.00"
   ]
  },
  {
   "cell_type": "code",
   "execution_count": 203,
   "id": "64157dfa-311b-4215-85a4-314156c3fe80",
   "metadata": {},
   "outputs": [
    {
     "data": {
      "text/html": [
       "<div>\n",
       "<style scoped>\n",
       "    .dataframe tbody tr th:only-of-type {\n",
       "        vertical-align: middle;\n",
       "    }\n",
       "\n",
       "    .dataframe tbody tr th {\n",
       "        vertical-align: top;\n",
       "    }\n",
       "\n",
       "    .dataframe thead th {\n",
       "        text-align: right;\n",
       "    }\n",
       "</style>\n",
       "<table border=\"1\" class=\"dataframe\">\n",
       "  <thead>\n",
       "    <tr style=\"text-align: right;\">\n",
       "      <th></th>\n",
       "      <th>Year</th>\n",
       "      <th>Month</th>\n",
       "      <th>Price_beef_kilo</th>\n",
       "      <th>Price_rice_kilo</th>\n",
       "      <th>Price_coffee_kilo</th>\n",
       "      <th>Inflation_rate</th>\n",
       "      <th>Price_rice_infl</th>\n",
       "      <th>Price_beef_infl</th>\n",
       "      <th>Price_coffee_infl</th>\n",
       "    </tr>\n",
       "  </thead>\n",
       "  <tbody>\n",
       "  </tbody>\n",
       "</table>\n",
       "</div>"
      ],
      "text/plain": [
       "Empty DataFrame\n",
       "Columns: [Year, Month, Price_beef_kilo, Price_rice_kilo, Price_coffee_kilo, Inflation_rate, Price_rice_infl, Price_beef_infl, Price_coffee_infl]\n",
       "Index: []"
      ]
     },
     "execution_count": 203,
     "metadata": {},
     "output_type": "execute_result"
    }
   ],
   "source": [
    "df[df['Inflation_rate'].isnull()]"
   ]
  },
  {
   "cell_type": "code",
   "execution_count": 204,
   "id": "100f2707-eb7a-406a-ad8a-0e98dfa34a99",
   "metadata": {},
   "outputs": [
    {
     "data": {
      "text/html": [
       "<div>\n",
       "<style scoped>\n",
       "    .dataframe tbody tr th:only-of-type {\n",
       "        vertical-align: middle;\n",
       "    }\n",
       "\n",
       "    .dataframe tbody tr th {\n",
       "        vertical-align: top;\n",
       "    }\n",
       "\n",
       "    .dataframe thead th {\n",
       "        text-align: right;\n",
       "    }\n",
       "</style>\n",
       "<table border=\"1\" class=\"dataframe\">\n",
       "  <thead>\n",
       "    <tr style=\"text-align: right;\">\n",
       "      <th></th>\n",
       "      <th>Year</th>\n",
       "      <th>Month</th>\n",
       "      <th>Price_beef_kilo</th>\n",
       "      <th>Price_rice_kilo</th>\n",
       "      <th>Price_coffee_kilo</th>\n",
       "      <th>Inflation_rate</th>\n",
       "      <th>Price_rice_infl</th>\n",
       "      <th>Price_beef_infl</th>\n",
       "      <th>Price_coffee_infl</th>\n",
       "    </tr>\n",
       "  </thead>\n",
       "  <tbody>\n",
       "    <tr>\n",
       "      <th>167</th>\n",
       "      <td>2006</td>\n",
       "      <td>Jan</td>\n",
       "      <td>2.62</td>\n",
       "      <td>0.29</td>\n",
       "      <td>2.74</td>\n",
       "      <td>45.56</td>\n",
       "      <td>NaN</td>\n",
       "      <td>NaN</td>\n",
       "      <td>NaN</td>\n",
       "    </tr>\n",
       "    <tr>\n",
       "      <th>168</th>\n",
       "      <td>2006</td>\n",
       "      <td>Feb</td>\n",
       "      <td>2.65</td>\n",
       "      <td>0.30</td>\n",
       "      <td>2.63</td>\n",
       "      <td>45.56</td>\n",
       "      <td>NaN</td>\n",
       "      <td>NaN</td>\n",
       "      <td>NaN</td>\n",
       "    </tr>\n",
       "    <tr>\n",
       "      <th>169</th>\n",
       "      <td>2006</td>\n",
       "      <td>Mar</td>\n",
       "      <td>2.62</td>\n",
       "      <td>0.30</td>\n",
       "      <td>2.51</td>\n",
       "      <td>45.56</td>\n",
       "      <td>NaN</td>\n",
       "      <td>NaN</td>\n",
       "      <td>NaN</td>\n",
       "    </tr>\n",
       "    <tr>\n",
       "      <th>170</th>\n",
       "      <td>2006</td>\n",
       "      <td>Apr</td>\n",
       "      <td>2.60</td>\n",
       "      <td>0.30</td>\n",
       "      <td>2.54</td>\n",
       "      <td>45.56</td>\n",
       "      <td>NaN</td>\n",
       "      <td>NaN</td>\n",
       "      <td>NaN</td>\n",
       "    </tr>\n",
       "    <tr>\n",
       "      <th>171</th>\n",
       "      <td>2006</td>\n",
       "      <td>May</td>\n",
       "      <td>2.62</td>\n",
       "      <td>0.31</td>\n",
       "      <td>2.41</td>\n",
       "      <td>45.56</td>\n",
       "      <td>NaN</td>\n",
       "      <td>NaN</td>\n",
       "      <td>NaN</td>\n",
       "    </tr>\n",
       "    <tr>\n",
       "      <th>172</th>\n",
       "      <td>2006</td>\n",
       "      <td>Jun</td>\n",
       "      <td>2.57</td>\n",
       "      <td>0.31</td>\n",
       "      <td>2.27</td>\n",
       "      <td>45.56</td>\n",
       "      <td>NaN</td>\n",
       "      <td>NaN</td>\n",
       "      <td>NaN</td>\n",
       "    </tr>\n",
       "    <tr>\n",
       "      <th>173</th>\n",
       "      <td>2006</td>\n",
       "      <td>Jul</td>\n",
       "      <td>2.62</td>\n",
       "      <td>0.32</td>\n",
       "      <td>2.31</td>\n",
       "      <td>45.56</td>\n",
       "      <td>NaN</td>\n",
       "      <td>NaN</td>\n",
       "      <td>NaN</td>\n",
       "    </tr>\n",
       "    <tr>\n",
       "      <th>174</th>\n",
       "      <td>2006</td>\n",
       "      <td>Aug</td>\n",
       "      <td>2.66</td>\n",
       "      <td>0.31</td>\n",
       "      <td>2.46</td>\n",
       "      <td>45.56</td>\n",
       "      <td>NaN</td>\n",
       "      <td>NaN</td>\n",
       "      <td>NaN</td>\n",
       "    </tr>\n",
       "    <tr>\n",
       "      <th>175</th>\n",
       "      <td>2006</td>\n",
       "      <td>Sep</td>\n",
       "      <td>2.68</td>\n",
       "      <td>0.31</td>\n",
       "      <td>2.42</td>\n",
       "      <td>45.56</td>\n",
       "      <td>NaN</td>\n",
       "      <td>NaN</td>\n",
       "      <td>NaN</td>\n",
       "    </tr>\n",
       "    <tr>\n",
       "      <th>176</th>\n",
       "      <td>2006</td>\n",
       "      <td>Oct</td>\n",
       "      <td>2.69</td>\n",
       "      <td>0.30</td>\n",
       "      <td>2.44</td>\n",
       "      <td>45.56</td>\n",
       "      <td>NaN</td>\n",
       "      <td>NaN</td>\n",
       "      <td>NaN</td>\n",
       "    </tr>\n",
       "    <tr>\n",
       "      <th>177</th>\n",
       "      <td>2006</td>\n",
       "      <td>Nov</td>\n",
       "      <td>2.77</td>\n",
       "      <td>0.30</td>\n",
       "      <td>2.70</td>\n",
       "      <td>45.56</td>\n",
       "      <td>NaN</td>\n",
       "      <td>NaN</td>\n",
       "      <td>NaN</td>\n",
       "    </tr>\n",
       "    <tr>\n",
       "      <th>178</th>\n",
       "      <td>2006</td>\n",
       "      <td>Dec</td>\n",
       "      <td>2.70</td>\n",
       "      <td>0.30</td>\n",
       "      <td>2.83</td>\n",
       "      <td>45.56</td>\n",
       "      <td>NaN</td>\n",
       "      <td>NaN</td>\n",
       "      <td>NaN</td>\n",
       "    </tr>\n",
       "  </tbody>\n",
       "</table>\n",
       "</div>"
      ],
      "text/plain": [
       "     Year Month  Price_beef_kilo  Price_rice_kilo  Price_coffee_kilo  \\\n",
       "167  2006   Jan             2.62             0.29               2.74   \n",
       "168  2006   Feb             2.65             0.30               2.63   \n",
       "169  2006   Mar             2.62             0.30               2.51   \n",
       "170  2006   Apr             2.60             0.30               2.54   \n",
       "171  2006   May             2.62             0.31               2.41   \n",
       "172  2006   Jun             2.57             0.31               2.27   \n",
       "173  2006   Jul             2.62             0.32               2.31   \n",
       "174  2006   Aug             2.66             0.31               2.46   \n",
       "175  2006   Sep             2.68             0.31               2.42   \n",
       "176  2006   Oct             2.69             0.30               2.44   \n",
       "177  2006   Nov             2.77             0.30               2.70   \n",
       "178  2006   Dec             2.70             0.30               2.83   \n",
       "\n",
       "    Inflation_rate  Price_rice_infl  Price_beef_infl  Price_coffee_infl  \n",
       "167          45.56              NaN              NaN                NaN  \n",
       "168          45.56              NaN              NaN                NaN  \n",
       "169          45.56              NaN              NaN                NaN  \n",
       "170          45.56              NaN              NaN                NaN  \n",
       "171          45.56              NaN              NaN                NaN  \n",
       "172          45.56              NaN              NaN                NaN  \n",
       "173          45.56              NaN              NaN                NaN  \n",
       "174          45.56              NaN              NaN                NaN  \n",
       "175          45.56              NaN              NaN                NaN  \n",
       "176          45.56              NaN              NaN                NaN  \n",
       "177          45.56              NaN              NaN                NaN  \n",
       "178          45.56              NaN              NaN                NaN  "
      ]
     },
     "execution_count": 204,
     "metadata": {},
     "output_type": "execute_result"
    }
   ],
   "source": [
    "df[df['Year']==2006] "
   ]
  },
  {
   "cell_type": "code",
   "execution_count": 205,
   "id": "7de0f6f9-bee2-4fc1-85f3-f0fa81564155",
   "metadata": {},
   "outputs": [
    {
     "data": {
      "text/html": [
       "<div>\n",
       "<style scoped>\n",
       "    .dataframe tbody tr th:only-of-type {\n",
       "        vertical-align: middle;\n",
       "    }\n",
       "\n",
       "    .dataframe tbody tr th {\n",
       "        vertical-align: top;\n",
       "    }\n",
       "\n",
       "    .dataframe thead th {\n",
       "        text-align: right;\n",
       "    }\n",
       "</style>\n",
       "<table border=\"1\" class=\"dataframe\">\n",
       "  <thead>\n",
       "    <tr style=\"text-align: right;\">\n",
       "      <th></th>\n",
       "      <th>Year</th>\n",
       "      <th>Month</th>\n",
       "      <th>Price_beef_kilo</th>\n",
       "      <th>Price_rice_kilo</th>\n",
       "      <th>Price_coffee_kilo</th>\n",
       "      <th>Inflation_rate</th>\n",
       "      <th>Price_rice_infl</th>\n",
       "      <th>Price_beef_infl</th>\n",
       "      <th>Price_coffee_infl</th>\n",
       "    </tr>\n",
       "  </thead>\n",
       "  <tbody>\n",
       "    <tr>\n",
       "      <th>359</th>\n",
       "      <td>2022</td>\n",
       "      <td>Jan</td>\n",
       "      <td>5.97</td>\n",
       "      <td>0.43</td>\n",
       "      <td>5.98</td>\n",
       "      <td>0.0</td>\n",
       "      <td>NaN</td>\n",
       "      <td>NaN</td>\n",
       "      <td>NaN</td>\n",
       "    </tr>\n",
       "  </tbody>\n",
       "</table>\n",
       "</div>"
      ],
      "text/plain": [
       "     Year Month  Price_beef_kilo  Price_rice_kilo  Price_coffee_kilo  \\\n",
       "359  2022   Jan             5.97             0.43               5.98   \n",
       "\n",
       "    Inflation_rate  Price_rice_infl  Price_beef_infl  Price_coffee_infl  \n",
       "359            0.0              NaN              NaN                NaN  "
      ]
     },
     "execution_count": 205,
     "metadata": {},
     "output_type": "execute_result"
    }
   ],
   "source": [
    "df[df['Year']==2022] "
   ]
  },
  {
   "cell_type": "markdown",
   "id": "be604b51-7223-4c0f-bd04-53e2ab6b259e",
   "metadata": {},
   "source": [
    "So, Here We have got the Inflation Rate for 2006 and 2022. Now Let's calculate the Inflation Price for Rice, Beef and Coffee in\n",
    "these Given Years.\n",
    "\n",
    "**Inflation Price**= price * (1+ Inflation Rate/100)"
   ]
  },
  {
   "cell_type": "code",
   "execution_count": null,
   "id": "b3af845b-56ec-4a09-9ab7-afdde3dcb59b",
   "metadata": {},
   "outputs": [],
   "source": []
  },
  {
   "cell_type": "code",
   "execution_count": 206,
   "id": "413cd031-5d7c-4ce7-87b4-b2a38dc6ddaa",
   "metadata": {},
   "outputs": [],
   "source": [
    "def inflafunc(inf,price):\n",
    "    return round(float(price) * (1 + float(inf)/100),2)\n",
    "    "
   ]
  },
  {
   "cell_type": "code",
   "execution_count": 207,
   "id": "b5d49df5-6118-438d-a678-9ab676efb9de",
   "metadata": {},
   "outputs": [],
   "source": [
    "df.loc[df['Year'].isin([2006,2022]),'Price_rice_infl']=df.loc[df['Year'].isin([2006,2022])].apply(lambda x: inflafunc(x['Inflation_rate'],x['Price_rice_kilo']),axis=1)"
   ]
  },
  {
   "cell_type": "code",
   "execution_count": 208,
   "id": "023c1137-e093-4213-b4d8-ee99a763675b",
   "metadata": {},
   "outputs": [],
   "source": [
    "df.loc[df['Year'].isin([2006,2022]),'Price_beef_infl']=df.loc[df['Year'].isin([2006,2022])].apply(lambda x: inflafunc(x['Inflation_rate'],x['Price_beef_kilo']),axis=1)"
   ]
  },
  {
   "cell_type": "code",
   "execution_count": 209,
   "id": "626883fc-711e-4521-8f20-17c06fea685f",
   "metadata": {},
   "outputs": [],
   "source": [
    "df.loc[df['Year'].isin([2006,2022]),'Price_coffee_infl']=df.loc[df['Year'].isin([2006,2022])].apply(lambda x: inflafunc(x['Inflation_rate'],x['Price_coffee_kilo']),axis=1)"
   ]
  },
  {
   "cell_type": "code",
   "execution_count": 210,
   "id": "c2c521ad-38c2-4831-ae41-28d51b3e90b3",
   "metadata": {},
   "outputs": [
    {
     "data": {
      "text/html": [
       "<div>\n",
       "<style scoped>\n",
       "    .dataframe tbody tr th:only-of-type {\n",
       "        vertical-align: middle;\n",
       "    }\n",
       "\n",
       "    .dataframe tbody tr th {\n",
       "        vertical-align: top;\n",
       "    }\n",
       "\n",
       "    .dataframe thead th {\n",
       "        text-align: right;\n",
       "    }\n",
       "</style>\n",
       "<table border=\"1\" class=\"dataframe\">\n",
       "  <thead>\n",
       "    <tr style=\"text-align: right;\">\n",
       "      <th></th>\n",
       "      <th>Year</th>\n",
       "      <th>Month</th>\n",
       "      <th>Price_beef_kilo</th>\n",
       "      <th>Price_rice_kilo</th>\n",
       "      <th>Price_coffee_kilo</th>\n",
       "      <th>Inflation_rate</th>\n",
       "      <th>Price_rice_infl</th>\n",
       "      <th>Price_beef_infl</th>\n",
       "      <th>Price_coffee_infl</th>\n",
       "    </tr>\n",
       "  </thead>\n",
       "  <tbody>\n",
       "    <tr>\n",
       "      <th>167</th>\n",
       "      <td>2006</td>\n",
       "      <td>Jan</td>\n",
       "      <td>2.62</td>\n",
       "      <td>0.29</td>\n",
       "      <td>2.74</td>\n",
       "      <td>45.56</td>\n",
       "      <td>0.42</td>\n",
       "      <td>3.81</td>\n",
       "      <td>3.99</td>\n",
       "    </tr>\n",
       "    <tr>\n",
       "      <th>168</th>\n",
       "      <td>2006</td>\n",
       "      <td>Feb</td>\n",
       "      <td>2.65</td>\n",
       "      <td>0.30</td>\n",
       "      <td>2.63</td>\n",
       "      <td>45.56</td>\n",
       "      <td>0.44</td>\n",
       "      <td>3.86</td>\n",
       "      <td>3.83</td>\n",
       "    </tr>\n",
       "    <tr>\n",
       "      <th>169</th>\n",
       "      <td>2006</td>\n",
       "      <td>Mar</td>\n",
       "      <td>2.62</td>\n",
       "      <td>0.30</td>\n",
       "      <td>2.51</td>\n",
       "      <td>45.56</td>\n",
       "      <td>0.44</td>\n",
       "      <td>3.81</td>\n",
       "      <td>3.65</td>\n",
       "    </tr>\n",
       "    <tr>\n",
       "      <th>170</th>\n",
       "      <td>2006</td>\n",
       "      <td>Apr</td>\n",
       "      <td>2.60</td>\n",
       "      <td>0.30</td>\n",
       "      <td>2.54</td>\n",
       "      <td>45.56</td>\n",
       "      <td>0.44</td>\n",
       "      <td>3.78</td>\n",
       "      <td>3.70</td>\n",
       "    </tr>\n",
       "    <tr>\n",
       "      <th>171</th>\n",
       "      <td>2006</td>\n",
       "      <td>May</td>\n",
       "      <td>2.62</td>\n",
       "      <td>0.31</td>\n",
       "      <td>2.41</td>\n",
       "      <td>45.56</td>\n",
       "      <td>0.45</td>\n",
       "      <td>3.81</td>\n",
       "      <td>3.51</td>\n",
       "    </tr>\n",
       "    <tr>\n",
       "      <th>172</th>\n",
       "      <td>2006</td>\n",
       "      <td>Jun</td>\n",
       "      <td>2.57</td>\n",
       "      <td>0.31</td>\n",
       "      <td>2.27</td>\n",
       "      <td>45.56</td>\n",
       "      <td>0.45</td>\n",
       "      <td>3.74</td>\n",
       "      <td>3.30</td>\n",
       "    </tr>\n",
       "    <tr>\n",
       "      <th>173</th>\n",
       "      <td>2006</td>\n",
       "      <td>Jul</td>\n",
       "      <td>2.62</td>\n",
       "      <td>0.32</td>\n",
       "      <td>2.31</td>\n",
       "      <td>45.56</td>\n",
       "      <td>0.47</td>\n",
       "      <td>3.81</td>\n",
       "      <td>3.36</td>\n",
       "    </tr>\n",
       "    <tr>\n",
       "      <th>174</th>\n",
       "      <td>2006</td>\n",
       "      <td>Aug</td>\n",
       "      <td>2.66</td>\n",
       "      <td>0.31</td>\n",
       "      <td>2.46</td>\n",
       "      <td>45.56</td>\n",
       "      <td>0.45</td>\n",
       "      <td>3.87</td>\n",
       "      <td>3.58</td>\n",
       "    </tr>\n",
       "    <tr>\n",
       "      <th>175</th>\n",
       "      <td>2006</td>\n",
       "      <td>Sep</td>\n",
       "      <td>2.68</td>\n",
       "      <td>0.31</td>\n",
       "      <td>2.42</td>\n",
       "      <td>45.56</td>\n",
       "      <td>0.45</td>\n",
       "      <td>3.90</td>\n",
       "      <td>3.52</td>\n",
       "    </tr>\n",
       "    <tr>\n",
       "      <th>176</th>\n",
       "      <td>2006</td>\n",
       "      <td>Oct</td>\n",
       "      <td>2.69</td>\n",
       "      <td>0.30</td>\n",
       "      <td>2.44</td>\n",
       "      <td>45.56</td>\n",
       "      <td>0.44</td>\n",
       "      <td>3.92</td>\n",
       "      <td>3.55</td>\n",
       "    </tr>\n",
       "    <tr>\n",
       "      <th>177</th>\n",
       "      <td>2006</td>\n",
       "      <td>Nov</td>\n",
       "      <td>2.77</td>\n",
       "      <td>0.30</td>\n",
       "      <td>2.70</td>\n",
       "      <td>45.56</td>\n",
       "      <td>0.44</td>\n",
       "      <td>4.03</td>\n",
       "      <td>3.93</td>\n",
       "    </tr>\n",
       "    <tr>\n",
       "      <th>178</th>\n",
       "      <td>2006</td>\n",
       "      <td>Dec</td>\n",
       "      <td>2.70</td>\n",
       "      <td>0.30</td>\n",
       "      <td>2.83</td>\n",
       "      <td>45.56</td>\n",
       "      <td>0.44</td>\n",
       "      <td>3.93</td>\n",
       "      <td>4.12</td>\n",
       "    </tr>\n",
       "  </tbody>\n",
       "</table>\n",
       "</div>"
      ],
      "text/plain": [
       "     Year Month  Price_beef_kilo  Price_rice_kilo  Price_coffee_kilo  \\\n",
       "167  2006   Jan             2.62             0.29               2.74   \n",
       "168  2006   Feb             2.65             0.30               2.63   \n",
       "169  2006   Mar             2.62             0.30               2.51   \n",
       "170  2006   Apr             2.60             0.30               2.54   \n",
       "171  2006   May             2.62             0.31               2.41   \n",
       "172  2006   Jun             2.57             0.31               2.27   \n",
       "173  2006   Jul             2.62             0.32               2.31   \n",
       "174  2006   Aug             2.66             0.31               2.46   \n",
       "175  2006   Sep             2.68             0.31               2.42   \n",
       "176  2006   Oct             2.69             0.30               2.44   \n",
       "177  2006   Nov             2.77             0.30               2.70   \n",
       "178  2006   Dec             2.70             0.30               2.83   \n",
       "\n",
       "    Inflation_rate  Price_rice_infl  Price_beef_infl  Price_coffee_infl  \n",
       "167          45.56             0.42             3.81               3.99  \n",
       "168          45.56             0.44             3.86               3.83  \n",
       "169          45.56             0.44             3.81               3.65  \n",
       "170          45.56             0.44             3.78               3.70  \n",
       "171          45.56             0.45             3.81               3.51  \n",
       "172          45.56             0.45             3.74               3.30  \n",
       "173          45.56             0.47             3.81               3.36  \n",
       "174          45.56             0.45             3.87               3.58  \n",
       "175          45.56             0.45             3.90               3.52  \n",
       "176          45.56             0.44             3.92               3.55  \n",
       "177          45.56             0.44             4.03               3.93  \n",
       "178          45.56             0.44             3.93               4.12  "
      ]
     },
     "execution_count": 210,
     "metadata": {},
     "output_type": "execute_result"
    }
   ],
   "source": [
    "df[df['Year']==2006] "
   ]
  },
  {
   "cell_type": "code",
   "execution_count": 211,
   "id": "3700e357-c8a8-47e4-a827-f4e6e4700d65",
   "metadata": {},
   "outputs": [
    {
     "data": {
      "text/html": [
       "<div>\n",
       "<style scoped>\n",
       "    .dataframe tbody tr th:only-of-type {\n",
       "        vertical-align: middle;\n",
       "    }\n",
       "\n",
       "    .dataframe tbody tr th {\n",
       "        vertical-align: top;\n",
       "    }\n",
       "\n",
       "    .dataframe thead th {\n",
       "        text-align: right;\n",
       "    }\n",
       "</style>\n",
       "<table border=\"1\" class=\"dataframe\">\n",
       "  <thead>\n",
       "    <tr style=\"text-align: right;\">\n",
       "      <th></th>\n",
       "      <th>not_null_values</th>\n",
       "      <th>null_values</th>\n",
       "      <th>unique</th>\n",
       "    </tr>\n",
       "  </thead>\n",
       "  <tbody>\n",
       "    <tr>\n",
       "      <th>Year</th>\n",
       "      <td>360</td>\n",
       "      <td>0</td>\n",
       "      <td>31</td>\n",
       "    </tr>\n",
       "    <tr>\n",
       "      <th>Month</th>\n",
       "      <td>360</td>\n",
       "      <td>0</td>\n",
       "      <td>12</td>\n",
       "    </tr>\n",
       "    <tr>\n",
       "      <th>Price_beef_kilo</th>\n",
       "      <td>360</td>\n",
       "      <td>0</td>\n",
       "      <td>201</td>\n",
       "    </tr>\n",
       "    <tr>\n",
       "      <th>Price_rice_kilo</th>\n",
       "      <td>360</td>\n",
       "      <td>0</td>\n",
       "      <td>53</td>\n",
       "    </tr>\n",
       "    <tr>\n",
       "      <th>Price_coffee_kilo</th>\n",
       "      <td>360</td>\n",
       "      <td>0</td>\n",
       "      <td>227</td>\n",
       "    </tr>\n",
       "    <tr>\n",
       "      <th>Inflation_rate</th>\n",
       "      <td>360</td>\n",
       "      <td>0</td>\n",
       "      <td>31</td>\n",
       "    </tr>\n",
       "    <tr>\n",
       "      <th>Price_rice_infl</th>\n",
       "      <td>360</td>\n",
       "      <td>0</td>\n",
       "      <td>55</td>\n",
       "    </tr>\n",
       "    <tr>\n",
       "      <th>Price_beef_infl</th>\n",
       "      <td>360</td>\n",
       "      <td>0</td>\n",
       "      <td>199</td>\n",
       "    </tr>\n",
       "    <tr>\n",
       "      <th>Price_coffee_infl</th>\n",
       "      <td>360</td>\n",
       "      <td>0</td>\n",
       "      <td>244</td>\n",
       "    </tr>\n",
       "  </tbody>\n",
       "</table>\n",
       "</div>"
      ],
      "text/plain": [
       "                   not_null_values  null_values  unique\n",
       "Year                           360            0      31\n",
       "Month                          360            0      12\n",
       "Price_beef_kilo                360            0     201\n",
       "Price_rice_kilo                360            0      53\n",
       "Price_coffee_kilo              360            0     227\n",
       "Inflation_rate                 360            0      31\n",
       "Price_rice_infl                360            0      55\n",
       "Price_beef_infl                360            0     199\n",
       "Price_coffee_infl              360            0     244"
      ]
     },
     "execution_count": 211,
     "metadata": {},
     "output_type": "execute_result"
    }
   ],
   "source": [
    "nullfunc(df)"
   ]
  },
  {
   "cell_type": "markdown",
   "id": "3cfc56a1-1899-4ff8-9164-e4d9c47da79b",
   "metadata": {},
   "source": [
    "Finally We have got rid of Null Values. Let's see Duplicate Values"
   ]
  },
  {
   "cell_type": "markdown",
   "id": "35dd7f65-e68d-4586-bb1b-3975cac0605a",
   "metadata": {},
   "source": [
    "## DUPLICATE VALUES"
   ]
  },
  {
   "cell_type": "code",
   "execution_count": null,
   "id": "a7d999ce-8d63-4956-a20c-41f8c97bf118",
   "metadata": {},
   "outputs": [],
   "source": []
  },
  {
   "cell_type": "markdown",
   "id": "27e10549-f855-4eb3-b478-d769c5b7fcc6",
   "metadata": {},
   "source": [
    "For Duplicate Values We need to find those rows where Year and Month are same for all other values. Otherwise, Prices and Inflation can be  same for Different Year Months or Same Year Months."
   ]
  },
  {
   "cell_type": "code",
   "execution_count": 212,
   "id": "8a82878d-aca5-4ba4-ae53-01f84eb323b6",
   "metadata": {},
   "outputs": [],
   "source": [
    "years= list(map(str, range(1992,2023)))"
   ]
  },
  {
   "cell_type": "code",
   "execution_count": 213,
   "id": "3fb88cb4-fb0e-41fb-9e1a-c5d2f33b8a9d",
   "metadata": {},
   "outputs": [
    {
     "data": {
      "text/html": [
       "<div>\n",
       "<style scoped>\n",
       "    .dataframe tbody tr th:only-of-type {\n",
       "        vertical-align: middle;\n",
       "    }\n",
       "\n",
       "    .dataframe tbody tr th {\n",
       "        vertical-align: top;\n",
       "    }\n",
       "\n",
       "    .dataframe thead th {\n",
       "        text-align: right;\n",
       "    }\n",
       "</style>\n",
       "<table border=\"1\" class=\"dataframe\">\n",
       "  <thead>\n",
       "    <tr style=\"text-align: right;\">\n",
       "      <th></th>\n",
       "      <th>Month</th>\n",
       "      <th>count</th>\n",
       "    </tr>\n",
       "    <tr>\n",
       "      <th>Year</th>\n",
       "      <th></th>\n",
       "      <th></th>\n",
       "    </tr>\n",
       "  </thead>\n",
       "  <tbody>\n",
       "    <tr>\n",
       "      <th>1992</th>\n",
       "      <td>Apr</td>\n",
       "      <td>1</td>\n",
       "    </tr>\n",
       "    <tr>\n",
       "      <th>1992</th>\n",
       "      <td>Sep</td>\n",
       "      <td>1</td>\n",
       "    </tr>\n",
       "    <tr>\n",
       "      <th>1992</th>\n",
       "      <td>Oct</td>\n",
       "      <td>1</td>\n",
       "    </tr>\n",
       "    <tr>\n",
       "      <th>1992</th>\n",
       "      <td>Nov</td>\n",
       "      <td>1</td>\n",
       "    </tr>\n",
       "    <tr>\n",
       "      <th>1992</th>\n",
       "      <td>May</td>\n",
       "      <td>1</td>\n",
       "    </tr>\n",
       "    <tr>\n",
       "      <th>...</th>\n",
       "      <td>...</td>\n",
       "      <td>...</td>\n",
       "    </tr>\n",
       "    <tr>\n",
       "      <th>2021</th>\n",
       "      <td>Dec</td>\n",
       "      <td>1</td>\n",
       "    </tr>\n",
       "    <tr>\n",
       "      <th>2021</th>\n",
       "      <td>Aug</td>\n",
       "      <td>1</td>\n",
       "    </tr>\n",
       "    <tr>\n",
       "      <th>2021</th>\n",
       "      <td>Apr</td>\n",
       "      <td>1</td>\n",
       "    </tr>\n",
       "    <tr>\n",
       "      <th>2021</th>\n",
       "      <td>Nov</td>\n",
       "      <td>1</td>\n",
       "    </tr>\n",
       "    <tr>\n",
       "      <th>2022</th>\n",
       "      <td>Jan</td>\n",
       "      <td>1</td>\n",
       "    </tr>\n",
       "  </tbody>\n",
       "</table>\n",
       "<p>360 rows × 2 columns</p>\n",
       "</div>"
      ],
      "text/plain": [
       "     Month  count\n",
       "Year             \n",
       "1992   Apr      1\n",
       "1992   Sep      1\n",
       "1992   Oct      1\n",
       "1992   Nov      1\n",
       "1992   May      1\n",
       "...    ...    ...\n",
       "2021   Dec      1\n",
       "2021   Aug      1\n",
       "2021   Apr      1\n",
       "2021   Nov      1\n",
       "2022   Jan      1\n",
       "\n",
       "[360 rows x 2 columns]"
      ]
     },
     "execution_count": 213,
     "metadata": {},
     "output_type": "execute_result"
    }
   ],
   "source": [
    "df1=pd.DataFrame(df[['Year','Month']].value_counts()).reset_index()\n",
    "df1.set_index('Year',inplace=True)\n",
    "df1=df1.sort_values('Year', ascending=True)\n",
    "# df1.transpose()\n",
    "# df1[years].transpose()\n",
    "df1"
   ]
  },
  {
   "cell_type": "code",
   "execution_count": 214,
   "id": "7c19d582-24ea-4e16-8605-50fffa55c5cd",
   "metadata": {},
   "outputs": [
    {
     "data": {
      "text/html": [
       "<div>\n",
       "<style scoped>\n",
       "    .dataframe tbody tr th:only-of-type {\n",
       "        vertical-align: middle;\n",
       "    }\n",
       "\n",
       "    .dataframe tbody tr th {\n",
       "        vertical-align: top;\n",
       "    }\n",
       "\n",
       "    .dataframe thead th {\n",
       "        text-align: right;\n",
       "    }\n",
       "</style>\n",
       "<table border=\"1\" class=\"dataframe\">\n",
       "  <thead>\n",
       "    <tr style=\"text-align: right;\">\n",
       "      <th></th>\n",
       "      <th>Month</th>\n",
       "      <th>count</th>\n",
       "    </tr>\n",
       "    <tr>\n",
       "      <th>Year</th>\n",
       "      <th></th>\n",
       "      <th></th>\n",
       "    </tr>\n",
       "  </thead>\n",
       "  <tbody>\n",
       "  </tbody>\n",
       "</table>\n",
       "</div>"
      ],
      "text/plain": [
       "Empty DataFrame\n",
       "Columns: [Month, count]\n",
       "Index: []"
      ]
     },
     "execution_count": 214,
     "metadata": {},
     "output_type": "execute_result"
    }
   ],
   "source": [
    "df1[df1['count']>1]"
   ]
  },
  {
   "cell_type": "markdown",
   "id": "1003c8cb-ab7c-4425-a22b-7f7b72d3336e",
   "metadata": {},
   "source": [
    "So there are no duplicate rows having same Month and Year. Hence, we are good with the Data Cleaning.\n",
    "Let's go to the Problem Statements."
   ]
  },
  {
   "cell_type": "code",
   "execution_count": null,
   "id": "b7783cb6-dc85-4c63-99a3-d857b1c2afb6",
   "metadata": {},
   "outputs": [],
   "source": []
  },
  {
   "cell_type": "markdown",
   "id": "e8fa881c-37d5-4ebe-b46a-684777686166",
   "metadata": {},
   "source": [
    "## DATA TYPE"
   ]
  },
  {
   "cell_type": "code",
   "execution_count": 215,
   "id": "c259b371-f35c-4735-9aee-8901aa0d7353",
   "metadata": {},
   "outputs": [
    {
     "data": {
      "text/plain": [
       "Year                   int64\n",
       "Month                 object\n",
       "Price_beef_kilo      float64\n",
       "Price_rice_kilo      float64\n",
       "Price_coffee_kilo    float64\n",
       "Inflation_rate        object\n",
       "Price_rice_infl      float64\n",
       "Price_beef_infl      float64\n",
       "Price_coffee_infl    float64\n",
       "dtype: object"
      ]
     },
     "execution_count": 215,
     "metadata": {},
     "output_type": "execute_result"
    }
   ],
   "source": [
    "df.dtypes"
   ]
  },
  {
   "cell_type": "markdown",
   "id": "5d7343ed-1800-4e0d-95ab-60d6151352b1",
   "metadata": {},
   "source": [
    "#### Let's change the Inflation Rate column into float data type."
   ]
  },
  {
   "cell_type": "code",
   "execution_count": 216,
   "id": "31d66aee-8062-415d-9cd0-9b0803c66303",
   "metadata": {},
   "outputs": [],
   "source": [
    "def data_func(a):\n",
    "    return float(a)"
   ]
  },
  {
   "cell_type": "code",
   "execution_count": 217,
   "id": "76f8f5e7-2226-4508-9e76-161f63311647",
   "metadata": {},
   "outputs": [],
   "source": [
    "df['Inflation_rate']= df['Inflation_rate'].apply(lambda x: data_func(x))"
   ]
  },
  {
   "cell_type": "code",
   "execution_count": 218,
   "id": "d116531c-76d0-44cc-b207-8d7ab09fd65e",
   "metadata": {},
   "outputs": [
    {
     "data": {
      "text/plain": [
       "Year                   int64\n",
       "Month                 object\n",
       "Price_beef_kilo      float64\n",
       "Price_rice_kilo      float64\n",
       "Price_coffee_kilo    float64\n",
       "Inflation_rate       float64\n",
       "Price_rice_infl      float64\n",
       "Price_beef_infl      float64\n",
       "Price_coffee_infl    float64\n",
       "dtype: object"
      ]
     },
     "execution_count": 218,
     "metadata": {},
     "output_type": "execute_result"
    }
   ],
   "source": [
    "df.dtypes"
   ]
  },
  {
   "cell_type": "code",
   "execution_count": null,
   "id": "260953a7-1cb1-4508-8b48-fdab788808b7",
   "metadata": {},
   "outputs": [],
   "source": []
  },
  {
   "cell_type": "code",
   "execution_count": null,
   "id": "a98d9d2b-2911-4e44-8890-cebdba29a9da",
   "metadata": {},
   "outputs": [],
   "source": []
  },
  {
   "cell_type": "markdown",
   "id": "6f486a8d-d35a-4e6d-961e-1505cad50d9d",
   "metadata": {},
   "source": [
    "## PROBLEM STATEMENT"
   ]
  },
  {
   "cell_type": "code",
   "execution_count": 219,
   "id": "f700a9a0-4b59-403a-8882-1fb2024efd7d",
   "metadata": {},
   "outputs": [
    {
     "data": {
      "text/html": [
       "<div>\n",
       "<style scoped>\n",
       "    .dataframe tbody tr th:only-of-type {\n",
       "        vertical-align: middle;\n",
       "    }\n",
       "\n",
       "    .dataframe tbody tr th {\n",
       "        vertical-align: top;\n",
       "    }\n",
       "\n",
       "    .dataframe thead th {\n",
       "        text-align: right;\n",
       "    }\n",
       "</style>\n",
       "<table border=\"1\" class=\"dataframe\">\n",
       "  <thead>\n",
       "    <tr style=\"text-align: right;\">\n",
       "      <th></th>\n",
       "      <th>Year</th>\n",
       "      <th>Month</th>\n",
       "      <th>Price_beef_kilo</th>\n",
       "      <th>Price_rice_kilo</th>\n",
       "      <th>Price_coffee_kilo</th>\n",
       "      <th>Inflation_rate</th>\n",
       "      <th>Price_rice_infl</th>\n",
       "      <th>Price_beef_infl</th>\n",
       "      <th>Price_coffee_infl</th>\n",
       "    </tr>\n",
       "  </thead>\n",
       "  <tbody>\n",
       "    <tr>\n",
       "      <th>0</th>\n",
       "      <td>1992</td>\n",
       "      <td>Feb</td>\n",
       "      <td>2.52</td>\n",
       "      <td>0.28</td>\n",
       "      <td>1.51</td>\n",
       "      <td>89.59</td>\n",
       "      <td>0.53</td>\n",
       "      <td>4.78</td>\n",
       "      <td>2.86</td>\n",
       "    </tr>\n",
       "    <tr>\n",
       "      <th>1</th>\n",
       "      <td>1992</td>\n",
       "      <td>Mar</td>\n",
       "      <td>2.45</td>\n",
       "      <td>0.28</td>\n",
       "      <td>1.55</td>\n",
       "      <td>89.59</td>\n",
       "      <td>0.53</td>\n",
       "      <td>4.64</td>\n",
       "      <td>2.94</td>\n",
       "    </tr>\n",
       "    <tr>\n",
       "      <th>2</th>\n",
       "      <td>1992</td>\n",
       "      <td>Apr</td>\n",
       "      <td>2.38</td>\n",
       "      <td>0.28</td>\n",
       "      <td>1.45</td>\n",
       "      <td>89.59</td>\n",
       "      <td>0.53</td>\n",
       "      <td>4.51</td>\n",
       "      <td>2.75</td>\n",
       "    </tr>\n",
       "    <tr>\n",
       "      <th>3</th>\n",
       "      <td>1992</td>\n",
       "      <td>May</td>\n",
       "      <td>2.38</td>\n",
       "      <td>0.27</td>\n",
       "      <td>1.34</td>\n",
       "      <td>89.59</td>\n",
       "      <td>0.51</td>\n",
       "      <td>4.51</td>\n",
       "      <td>2.54</td>\n",
       "    </tr>\n",
       "    <tr>\n",
       "      <th>4</th>\n",
       "      <td>1992</td>\n",
       "      <td>Jun</td>\n",
       "      <td>2.33</td>\n",
       "      <td>0.27</td>\n",
       "      <td>1.30</td>\n",
       "      <td>89.59</td>\n",
       "      <td>0.51</td>\n",
       "      <td>4.42</td>\n",
       "      <td>2.46</td>\n",
       "    </tr>\n",
       "  </tbody>\n",
       "</table>\n",
       "</div>"
      ],
      "text/plain": [
       "   Year Month  Price_beef_kilo  Price_rice_kilo  Price_coffee_kilo  \\\n",
       "0  1992   Feb             2.52             0.28               1.51   \n",
       "1  1992   Mar             2.45             0.28               1.55   \n",
       "2  1992   Apr             2.38             0.28               1.45   \n",
       "3  1992   May             2.38             0.27               1.34   \n",
       "4  1992   Jun             2.33             0.27               1.30   \n",
       "\n",
       "   Inflation_rate  Price_rice_infl  Price_beef_infl  Price_coffee_infl  \n",
       "0           89.59             0.53             4.78               2.86  \n",
       "1           89.59             0.53             4.64               2.94  \n",
       "2           89.59             0.53             4.51               2.75  \n",
       "3           89.59             0.51             4.51               2.54  \n",
       "4           89.59             0.51             4.42               2.46  "
      ]
     },
     "execution_count": 219,
     "metadata": {},
     "output_type": "execute_result"
    }
   ],
   "source": [
    "df.head()"
   ]
  },
  {
   "cell_type": "markdown",
   "id": "493ed811-8284-4dca-85ec-cfac19c3beb5",
   "metadata": {},
   "source": [
    "***1. What is the Corelation b/w columns??***  \\\n",
    "***2. What is the difference/similarity in prices of rice, beef, coffee over the years?*** \\\n",
    "***3. How's the Inflation Rate over the Years?*** \\\n",
    "***4. What is the effect of Inflation in price of rice, beef, coffee over the years?*** \\\n",
    "***5. Which Commodity Products got effected most and least in terms of Inflation till 2022?*** \\\n",
    "***6. How's the Inflation Rate within a year Season Wise(is it same for every year ups and down in seasons)?*** \\\n"
   ]
  },
  {
   "cell_type": "markdown",
   "id": "fc4fa4fe-0cc4-4f5f-9abe-0139b56c291f",
   "metadata": {},
   "source": [
    "## 1.What is the Corelation b/w columns year wise??"
   ]
  },
  {
   "cell_type": "markdown",
   "id": "e79ca48d-75da-4da0-b49a-829e9a4a3e6c",
   "metadata": {},
   "source": [
    "### Here we will analyze data on Yearly Average Basis for the whole Dataset Columns."
   ]
  },
  {
   "cell_type": "code",
   "execution_count": 220,
   "id": "5540130e-f9b4-4639-ac92-1877a6a7b48d",
   "metadata": {},
   "outputs": [
    {
     "name": "stdout",
     "output_type": "stream",
     "text": [
      "<class 'pandas.core.frame.DataFrame'>\n",
      "RangeIndex: 360 entries, 0 to 359\n",
      "Data columns (total 9 columns):\n",
      " #   Column             Non-Null Count  Dtype  \n",
      "---  ------             --------------  -----  \n",
      " 0   Year               360 non-null    int64  \n",
      " 1   Month              360 non-null    object \n",
      " 2   Price_beef_kilo    360 non-null    float64\n",
      " 3   Price_rice_kilo    360 non-null    float64\n",
      " 4   Price_coffee_kilo  360 non-null    float64\n",
      " 5   Inflation_rate     360 non-null    float64\n",
      " 6   Price_rice_infl    360 non-null    float64\n",
      " 7   Price_beef_infl    360 non-null    float64\n",
      " 8   Price_coffee_infl  360 non-null    float64\n",
      "dtypes: float64(7), int64(1), object(1)\n",
      "memory usage: 25.4+ KB\n"
     ]
    }
   ],
   "source": [
    "df.info()"
   ]
  },
  {
   "cell_type": "code",
   "execution_count": 239,
   "id": "9c07a2f6-ab79-4f71-997f-a5ffd226518a",
   "metadata": {},
   "outputs": [
    {
     "name": "stdout",
     "output_type": "stream",
     "text": [
      "<class 'pandas.core.frame.DataFrame'>\n",
      "RangeIndex: 31 entries, 0 to 30\n",
      "Data columns (total 8 columns):\n",
      " #   Column             Non-Null Count  Dtype  \n",
      "---  ------             --------------  -----  \n",
      " 0   Year               31 non-null     int64  \n",
      " 1   Price_beef_kilo    31 non-null     float64\n",
      " 2   Price_rice_kilo    31 non-null     float64\n",
      " 3   Price_coffee_kilo  31 non-null     float64\n",
      " 4   Inflation_rate     31 non-null     float64\n",
      " 5   Price_rice_infl    31 non-null     float64\n",
      " 6   Price_beef_infl    31 non-null     float64\n",
      " 7   Price_coffee_infl  31 non-null     float64\n",
      "dtypes: float64(7), int64(1)\n",
      "memory usage: 2.1 KB\n"
     ]
    }
   ],
   "source": [
    "df1= df.groupby('Year')[['Price_beef_kilo', 'Price_rice_kilo',\n",
    "       'Price_coffee_kilo', 'Inflation_rate', 'Price_rice_infl',\n",
    "       'Price_beef_infl', 'Price_coffee_infl']].mean().reset_index()\n",
    "df1.info()"
   ]
  },
  {
   "cell_type": "markdown",
   "id": "4b01d05f-efd3-494b-9abc-04fe9d9c341a",
   "metadata": {},
   "source": [
    "<!-- **How to Read a Correlation Heatmap?**\n",
    "\n",
    "In this section, we will delve into how to read a correlation heatmap, an effective visual tool for discerning the strength and direction of relationships between variables:\n",
    "\n",
    ". Look at the color of each cell to see the strength and direction of the correlation. \\\n",
    ". Darker colors indicate stronger correlations, while lighter colors indicate weaker correlations. \\\n",
    ". Positive correlations (when one variable increases, the other variable tends to increase) are usually represented by warm colors, such as red or orange. \\\n",
    ". Negative correlations (when one variable increases, the other variable tends to decrease) are usually represented by cool colors, such as blue or green. -->"
   ]
  },
  {
   "cell_type": "markdown",
   "id": "aa5f0f7f-90d9-49a9-bcc4-467047e98af5",
   "metadata": {},
   "source": [
    "^ Reading"
   ]
  },
  {
   "cell_type": "code",
   "execution_count": 236,
   "id": "e7648a2e-03b1-4db5-a7ef-104ceed244b6",
   "metadata": {},
   "outputs": [
    {
     "data": {
      "text/plain": [
       "<Axes: >"
      ]
     },
     "execution_count": 236,
     "metadata": {},
     "output_type": "execute_result"
    },
    {
     "data": {
      "image/png": "[encoded data removed]",
      "text/plain": [
       "<Figure size 1000x400 with 2 Axes>"
      ]
     },
     "metadata": {},
     "output_type": "display_data"
    }
   ],
   "source": [
    "plt.figure(figsize=(10,4))\n",
    "sns.heatmap(df1.corr(), annot=True, annot_kws=dict(size=15, weight='bold'), linewidths=0.8, linecolor='black', xticklabels=1, yticklabels=1)"
   ]
  },
  {
   "cell_type": "markdown",
   "id": "646e6a5c-149e-4c40-b808-a778b5cb9e40",
   "metadata": {},
   "source": [
    "So On a Yearly Basis,\n",
    "- As the Year Increases The Price of Beef, Coffee and Rice Increases too. The Price of Beef have a strong Correlation with Year though.\n",
    "- As the Year Increases, Products Inflation Price Increases too.  But there's a weak corelation of Year with Price_rice_inflation and Price_coffee_inflation.\n",
    "- While Inflation Rate Decreases with increasing Year which is normal as we are comparing Inflation of Years with the Current Year 2022. So, as the Year Increases Inflation Rate will be less.\n",
    "- There's a strong Corelation between the 3 Commodity Product Prices and their Adjusted Inflation Prices too.\n",
    "\n",
    "***While with Inflation all columns have a Negative Relation, which shows as the Inflation Rate Increases while going down from 2022 to 1992, all the Products Prices Decreases almost for major number of years concluding inflation in terms of USD Currency over years.***\n",
    "\n",
    ". It shows the power of USD currency to buy products have decreased over the years."
   ]
  },
  {
   "cell_type": "code",
   "execution_count": 237,
   "id": "f988ed8c-172e-4cb3-a3de-2f2ebac80548",
   "metadata": {},
   "outputs": [
    {
     "data": {
      "text/html": [
       "<div>\n",
       "<style scoped>\n",
       "    .dataframe tbody tr th:only-of-type {\n",
       "        vertical-align: middle;\n",
       "    }\n",
       "\n",
       "    .dataframe tbody tr th {\n",
       "        vertical-align: top;\n",
       "    }\n",
       "\n",
       "    .dataframe thead th {\n",
       "        text-align: right;\n",
       "    }\n",
       "</style>\n",
       "<table border=\"1\" class=\"dataframe\">\n",
       "  <thead>\n",
       "    <tr style=\"text-align: right;\">\n",
       "      <th></th>\n",
       "      <th>Year</th>\n",
       "      <th>Price_beef_kilo</th>\n",
       "      <th>Price_rice_kilo</th>\n",
       "      <th>Price_coffee_kilo</th>\n",
       "      <th>Inflation_rate</th>\n",
       "      <th>Price_rice_infl</th>\n",
       "      <th>Price_beef_infl</th>\n",
       "      <th>Price_coffee_infl</th>\n",
       "    </tr>\n",
       "  </thead>\n",
       "  <tbody>\n",
       "    <tr>\n",
       "      <th>0</th>\n",
       "      <td>1992</td>\n",
       "      <td>2.443636</td>\n",
       "      <td>0.268182</td>\n",
       "      <td>1.391818</td>\n",
       "      <td>89.59</td>\n",
       "      <td>0.506364</td>\n",
       "      <td>4.633636</td>\n",
       "      <td>2.639091</td>\n",
       "    </tr>\n",
       "    <tr>\n",
       "      <th>1</th>\n",
       "      <td>1993</td>\n",
       "      <td>2.616667</td>\n",
       "      <td>0.235833</td>\n",
       "      <td>1.560000</td>\n",
       "      <td>84.15</td>\n",
       "      <td>0.435000</td>\n",
       "      <td>4.820000</td>\n",
       "      <td>2.873333</td>\n",
       "    </tr>\n",
       "  </tbody>\n",
       "</table>\n",
       "</div>"
      ],
      "text/plain": [
       "   Year  Price_beef_kilo  Price_rice_kilo  Price_coffee_kilo  Inflation_rate  \\\n",
       "0  1992         2.443636         0.268182           1.391818           89.59   \n",
       "1  1993         2.616667         0.235833           1.560000           84.15   \n",
       "\n",
       "   Price_rice_infl  Price_beef_infl  Price_coffee_infl  \n",
       "0         0.506364         4.633636           2.639091  \n",
       "1         0.435000         4.820000           2.873333  "
      ]
     },
     "execution_count": 237,
     "metadata": {},
     "output_type": "execute_result"
    }
   ],
   "source": [
    "df1.head(2)"
   ]
  },
  {
   "cell_type": "markdown",
   "id": "084bfb12-6cea-43fc-8a8d-87405a1ac8c6",
   "metadata": {},
   "source": [
    "## 2. What is the difference/similarity in prices of rice, beef, coffee over the years?"
   ]
  },
  {
   "cell_type": "markdown",
   "id": "d8981a11-4757-4e73-9325-39c1f4020c21",
   "metadata": {},
   "source": [
    "df1 contains the mean for every column values within a year."
   ]
  },
  {
   "cell_type": "code",
   "execution_count": 240,
   "id": "2cb10205-9a3e-4cad-8931-4433072e9047",
   "metadata": {},
   "outputs": [],
   "source": [
    "df1.set_index('Year', inplace=True)\n",
    "# df1.reset_index()"
   ]
  },
  {
   "cell_type": "code",
   "execution_count": 225,
   "id": "0c20f8dc-e352-4a6b-a2e4-9ae645f26e9a",
   "metadata": {},
   "outputs": [],
   "source": [
    "years= list(range(1992, 2023))\n",
    "# years"
   ]
  },
  {
   "cell_type": "code",
   "execution_count": 226,
   "id": "4a434c13-e98c-43b9-ab53-da6a97a55930",
   "metadata": {},
   "outputs": [
    {
     "data": {
      "image/png": "[encoded data removed]",
      "text/plain": [
       "<Figure size 1800x800 with 1 Axes>"
      ]
     },
     "metadata": {},
     "output_type": "display_data"
    }
   ],
   "source": [
    "fig, ax = plt.subplots(figsize=(18, 8))\n",
    "df1.index = df1.index.map(int)\n",
    "# ax.hist(df_p)\n",
    "ax1= ax.bar(df1.index, df1['Price_rice_kilo'], color='darkred', linewidth=5, alpha=1,edgecolor='black')\n",
    "ax2= ax.bar(df1.index, df1['Price_coffee_kilo'], color='pink', linewidth=1, alpha=1, edgecolor='pink')\n",
    "ax3= ax.bar(df1.index, df1['Price_beef_kilo'], color='lightblue',alpha=0.85)\n",
    "plt.title('Price per (kg) over Years')\n",
    "plt.xlabel('Years')\n",
    "plt.xlim(1991, 2024)\n",
    "plt.xticks(rotation=90)\n",
    "plt.ylabel('Price in USD')\n",
    "ax.legend(['Rice','Coffee','Beef'], loc='upper left')\n",
    "# plt.text(1998,2.0, \"Beef\")\n",
    "ax.grid(True)\n",
    "plt.show()"
   ]
  },
  {
   "cell_type": "markdown",
   "id": "c9eeb2e7-a777-4595-abdf-8e5b8b6ace18",
   "metadata": {},
   "source": [
    "Similarity b/w Prices of Rice, Beef, Coffee--\n",
    "- For Rice and Coffee the Price graph is lowest between 2000 and 2004. Beef have it's Price graph lower from even befor( 1995-2004).\n",
    "- For Beef the Price have a consistent increase from 2004 Onwards till 2014.\n",
    "- For Rice Price have a consistent increase from 2004 Onwards till 2008.\n",
    "- For Coffee Price have a consistent increase from 2004 Onwards till 2011.\n",
    "\n",
    "**Highest Price Year:**   \n",
    "- Coffee: 2022        \n",
    "- Rice:   2008          \n",
    "- Beef:   2022         \n",
    "\n",
    "**Lowest Price Year:**\n",
    "- Coffee: 2002\n",
    "- Rice:   2001\n",
    "- Beef:   1998\n",
    "\n",
    "\n",
    "Difference b/w Prices of Rice, Beef, Coffee--\n",
    "- Coffe have Quite Highest Prices in all 3 Commodity Products. Coffe have highest Price in Years 2011 and 2022. \n",
    "- Beef have Highest Price in 2021-22 and 2014.\n",
    "- Rice have highest Price in 2008-09 & 2011-12.\n",
    "- Coffee have quite the Most Unstable flow in it's Prices from 1992-2022 as comparison to Beef and Rice.\n",
    "- Rice have been the cheapest Product one among all the 3 Commodity Products.\n",
    "\n",
    "<!-- Among all the Commodity Products, Beef have a constant Increasing Trend in it's Price from 1992-2022 as comparison to Rice and Coffee. -->\n"
   ]
  },
  {
   "cell_type": "code",
   "execution_count": null,
   "id": "fe1bef97-ca36-40dc-8f11-a62f5a3a9351",
   "metadata": {},
   "outputs": [],
   "source": []
  },
  {
   "cell_type": "code",
   "execution_count": 227,
   "id": "e4b85de3-e758-402a-9e54-7afd419fca5d",
   "metadata": {},
   "outputs": [
    {
     "data": {
      "text/html": [
       "<div>\n",
       "<style scoped>\n",
       "    .dataframe tbody tr th:only-of-type {\n",
       "        vertical-align: middle;\n",
       "    }\n",
       "\n",
       "    .dataframe tbody tr th {\n",
       "        vertical-align: top;\n",
       "    }\n",
       "\n",
       "    .dataframe thead th {\n",
       "        text-align: right;\n",
       "    }\n",
       "</style>\n",
       "<table border=\"1\" class=\"dataframe\">\n",
       "  <thead>\n",
       "    <tr style=\"text-align: right;\">\n",
       "      <th></th>\n",
       "      <th>Price_beef_kilo</th>\n",
       "      <th>Price_rice_kilo</th>\n",
       "      <th>Price_coffee_kilo</th>\n",
       "      <th>Inflation_rate</th>\n",
       "      <th>Price_rice_infl</th>\n",
       "      <th>Price_beef_infl</th>\n",
       "      <th>Price_coffee_infl</th>\n",
       "    </tr>\n",
       "    <tr>\n",
       "      <th>Year</th>\n",
       "      <th></th>\n",
       "      <th></th>\n",
       "      <th></th>\n",
       "      <th></th>\n",
       "      <th></th>\n",
       "      <th></th>\n",
       "      <th></th>\n",
       "    </tr>\n",
       "  </thead>\n",
       "  <tbody>\n",
       "    <tr>\n",
       "      <th>2022</th>\n",
       "      <td>5.97</td>\n",
       "      <td>0.43</td>\n",
       "      <td>5.98</td>\n",
       "      <td>0.0</td>\n",
       "      <td>0.43</td>\n",
       "      <td>5.97</td>\n",
       "      <td>5.98</td>\n",
       "    </tr>\n",
       "  </tbody>\n",
       "</table>\n",
       "</div>"
      ],
      "text/plain": [
       "      Price_beef_kilo  Price_rice_kilo  Price_coffee_kilo  Inflation_rate  \\\n",
       "Year                                                                        \n",
       "2022             5.97             0.43               5.98             0.0   \n",
       "\n",
       "      Price_rice_infl  Price_beef_infl  Price_coffee_infl  \n",
       "Year                                                       \n",
       "2022             0.43             5.97               5.98  "
      ]
     },
     "execution_count": 227,
     "metadata": {},
     "output_type": "execute_result"
    }
   ],
   "source": [
    "df1[df1['Price_coffee_kilo']==df1['Price_coffee_kilo'].max()]"
   ]
  },
  {
   "cell_type": "markdown",
   "id": "1cac8f8e-0cae-40f1-9de0-87935947993a",
   "metadata": {},
   "source": [
    " ## 3. How's the Inflation Rate over the Years?"
   ]
  },
  {
   "cell_type": "code",
   "execution_count": 228,
   "id": "de48eed0-3ecb-480a-901c-babdb81c175e",
   "metadata": {},
   "outputs": [
    {
     "data": {
      "image/png": "[encoded data removed]",
      "text/plain": [
       "<Figure size 1800x600 with 1 Axes>"
      ]
     },
     "metadata": {},
     "output_type": "display_data"
    }
   ],
   "source": [
    "plt.figure(figsize=(18,6))\n",
    "\n",
    "sns.barplot(x=df1.index, y=df1['Inflation_rate'])\n",
    "plt.title('Inflation Rate from 1992-2022', size=16)\n",
    "plt.grid()"
   ]
  },
  {
   "cell_type": "markdown",
   "id": "d728db1b-add2-4f15-a842-fab434d3edef",
   "metadata": {},
   "source": [
    "The Inflation Rate have a gradual decrease as we go towards 2022. This graph shows how much Inflation have increased in the current year while comparing it with past years. \n",
    "- For 1992 the Inflation Rate is more than 80%. It means if a product cost was 10 USD at that time, today with the 80+% rate it will cost you more than  18 USD. It shows how much the power of USD have Increased in 2022 from 1992.\n",
    "\n",
    "- In 2006, the Inflation Rate is very high from 2005.\n",
    "\n",
    "- In 2021, the Inflation Rate is in negative value.\n",
    "\n",
    "A negative inflation rate, also known as deflation, means that the general price level of goods and services in an economy is falling over time. In   simpler terms, things are getting cheaper, not more expensive \\\n",
    "-Increased purchasing power: Your money becomes more valuable because it can buy more goods and services.."
   ]
  },
  {
   "cell_type": "code",
   "execution_count": null,
   "id": "baea57ec-b6ed-4129-b882-635c19ce52a9",
   "metadata": {},
   "outputs": [],
   "source": []
  },
  {
   "cell_type": "markdown",
   "id": "17eb0885-2a03-4142-998f-db3f2bbb7965",
   "metadata": {},
   "source": [
    "## 4. What is the effect of Inflation in price of rice, beef, coffee over the years?\n",
    "## 5. Which Commodity Products got effected most and least in terms of Inflation till 2022?"
   ]
  },
  {
   "cell_type": "code",
   "execution_count": 229,
   "id": "e6cce475-f3fb-4e81-a393-415374b392ad",
   "metadata": {},
   "outputs": [
    {
     "data": {
      "text/plain": [
       "2.8016666666666663"
      ]
     },
     "execution_count": 229,
     "metadata": {},
     "output_type": "execute_result"
    }
   ],
   "source": [
    "df1['Price_beef_infl'].min()"
   ]
  },
  {
   "cell_type": "code",
   "execution_count": 241,
   "id": "23e12559-5dbb-496e-952f-5b2249440135",
   "metadata": {},
   "outputs": [
    {
     "data": {
      "text/plain": [
       "Text(2011, 7.069166666666667, 'Coffee_Max_Infl_price')"
      ]
     },
     "execution_count": 241,
     "metadata": {},
     "output_type": "execute_result"
    },
    {
     "data": {
      "image/png": "[encoded data removed]",
      "text/plain": [
       "<Figure size 1800x600 with 1 Axes>"
      ]
     },
     "metadata": {},
     "output_type": "display_data"
    }
   ],
   "source": [
    "fig,ax = plt.subplots(figsize=(18,6))\n",
    "ax1=ax.plot(df1.index, df1['Price_rice_infl'], marker='o')\n",
    "ax2=ax.plot(df1.index, df1['Price_coffee_infl'], marker='o')\n",
    "ax3=ax.plot(df1.index, df1['Price_beef_infl'], marker='o')\n",
    "plt.title('Adjusted Inflation Price Per kg')\n",
    "plt.xlabel('Year')\n",
    "plt.xlim(1991,2025)\n",
    "plt.ylabel('Price in USD')\n",
    "ax.legend(['Rice','Coffee','Beef'])\n",
    "ax.grid()\n",
    "plt.annotate(\"Beef_Min_Infl_price\",(1998,df1['Price_beef_infl'].min()))\n",
    "plt.annotate(\"Rice_Min_Infl_price\",(2001,df1['Price_rice_infl'].min()))\n",
    "plt.annotate(\"Coffee_Min_Infl_price\",(2002,df1['Price_coffee_infl'].min()))\n",
    "plt.annotate(\"Beef_Max_Infl_price\",(2022,df1['Price_beef_infl'].max()))\n",
    "plt.annotate(\"Rice_Max_Infl_price\",(2008,df1['Price_rice_infl'].max()))\n",
    "plt.annotate(\"Coffee_Max_Infl_price\",(2011,df1['Price_coffee_infl'].max()))"
   ]
  },
  {
   "cell_type": "markdown",
   "id": "43743734-8bea-4f60-87c4-679117cfb388",
   "metadata": {},
   "source": [
    "#### - Rice has the most stable price adjusted with Inflation over years. It has been affected least with Inflation.\n",
    "#### - Coffe has the least stable price adjusted with Inflation over years. It has been affected most with Inflation."
   ]
  },
  {
   "cell_type": "code",
   "execution_count": null,
   "id": "d81bc9c2-a625-46e2-8350-047a5e5cfb3a",
   "metadata": {},
   "outputs": [],
   "source": [
    "# df1.tail(13)"
   ]
  },
  {
   "cell_type": "markdown",
   "id": "ac7125cd-19ab-44ce-b543-0e2539ee5f16",
   "metadata": {},
   "source": [
    "### Beef\n",
    "\n",
    "**Beef has a downfall in it's Price Inflation from 1993-1998.**\n",
    "According to marketing.uwagec.org, beef demand declined by an average of 1.3% annually from 1992 to 1998 due to increasing female labor force participation. \n",
    "\n",
    "**While has a increase in it's Price Inflation from 2009-2014.**\n",
    "\n",
    "##### Beef prices increased in 2014 due to a combination of factors: \n",
    "\r",
    "1. Low cattle inventories: Cattle numbers were at their lowest level since the 1950.\n",
    "2. \n",
    "High demand: Beef demand remained high, even as cattle numbers decrease\n",
    "3.\r\n",
    "Low cattle prices: Beef producers reduced herds to record lows as corn prices sped.ik\n",
    "4.\r\n",
    "Technological advancements: Technological advancements mean that fewer cattle are needed to produce the same amount o\n",
    "  ee\n",
    "\n",
    "f.\n",
    "Between 2009 and 2014, the average inflation rate of the dollar was 1.60% per year, with a cumulative price increase of 10.35%. This means that a dollar in 2009 has the same purchasing power as $1.07401 in 2014.\n",
    "\n",
    "**Adjusted Inflation Lowest Price**: 2.80 USD Yearly Avg in 1998\n",
    "\n",
    "**Adjusted Inflation Highest Price**: 5.97 USD Yearly Avg in 2022\n"
   ]
  },
  {
   "cell_type": "code",
   "execution_count": null,
   "id": "f07d4392-5a57-4ff0-97a8-e87779562f78",
   "metadata": {},
   "outputs": [],
   "source": []
  },
  {
   "cell_type": "markdown",
   "id": "0d4b9ad4-19fb-4ca4-9d34-d53c00823639",
   "metadata": {},
   "source": [
    "### Rice\n",
    "\n",
    "**Rice has a downfall in it's Price Inflation from 1995-2001.**\n",
    "The export price of rice decreased until 2001, when the Thai baht (THB) appreciated against the US dollar (USD). Dawe (2002) estimated that a 10% USD against the Thai baht results in a 22$/mt decrease in global rice prices. \n",
    "\n",
    "**Rice has a increase in it's Price Inflation during 2007-2008.**\n",
    "The price of rice increased 224% between January 2007 and mid-2008. This increase was not due to a shortage of rice or crop failure. Instead, the following factors contributed to the rise in rice prices\n",
    "\n",
    "1. Trade restriction: Major suppliers, including India and Vietnam, imposed export restrictions to control domestic inflation\r",
    "2. Panic buying: Large importers panicked and bought rice.\n",
    "3. \n",
    "Weak dollar: The dollar was akk-  \n",
    "4. \r\n",
    "Record oil prices: Oil prices were at record le \n",
    " .\n"
   ]
  },
  {
   "cell_type": "markdown",
   "id": "cd211dc7-a7db-4883-8bcb-4b70a7063496",
   "metadata": {},
   "source": [
    "#### Rice has a downfall in it's Price Inflation from 2009-2017\n",
    "\n",
    "The largest decrease occurred between 2008 and 2010, followed by a period of relative stability until 2017. After that, there was a slight upward trend, but prices remained significantly lower than the 2008 peak throughout the timeframe.\n",
    "\n",
    "Factors contributing to the decrease:\r",
    "\r\n",
    "Increased rice production: Global rice production increased significantly over this period due to factors like improved farming techniques, expande  d irrigation, and technological advancemens2\\\n",
    " .\r\n",
    "Trade policies: Some major rice-producing countries like Vietnam and Thailand implemented policies that encouraged exports, leading to increased supply and lower prices in the global mat. \\\n",
    " t.\r\n",
    "Macroeconomic factors: Global economic stability and low inflation rates during much of this period also contributed to stable or declining rice prices."
   ]
  },
  {
   "cell_type": "markdown",
   "id": "f908aa77-03ab-43e8-b722-0861c9f0b925",
   "metadata": {},
   "source": [
    "##### Adjusted Inflation Lowest Price: 0.26 USD Yearly Avg in 2001\n",
    "\n",
    "##### Adjusted Inflation Highest Price: 0.80 USD Yearly Avg in 2008\n"
   ]
  },
  {
   "cell_type": "code",
   "execution_count": null,
   "id": "23737728-c68c-4106-afdc-6c61a319e600",
   "metadata": {},
   "outputs": [],
   "source": []
  },
  {
   "cell_type": "markdown",
   "id": "a3904d85-0ef6-4a60-9cd7-0b2df388324f",
   "metadata": {},
   "source": [
    "### Coffee\n",
    "\n",
    "**Since Coffe have been effected most by Inflation from 1980-2022. There are very high ups and down in Price Inflation for Coffee. The average price of coffee increased 39% annually from 1975 to 2020.**\n",
    "\n",
    "- The coffee prices are clearly unstable. The chart shows the price per kg of coffee. Of course, the brands you buy coffee beans and to-go coffee from   are much more price stable.\n",
    "\n",
    "- In the mid-1990s, coffee prices increased due to a scarcity of supply caused by weather conditions. This period of higher prices made up for the  losses incurred when the International Coffee Agreement's quota system was dismantled in 1989. \r",
    "- \n",
    "The boom in coffee prices in the mid-1990s also led to many Vietnamese entering coffee production. By 1999, Vietnam's coffee output had grown to over  11 million bags, second only to Brazil.\r\n",
    "However, in the late 1990s and early 2000s, coffee prices collapsed, falling from about $1.50 per pound to $0.46 per pound in 200  --   \r\n",
    "Since 1975, the lowest price seen is in 2002, when you could purchase 1 pound of coffee for a yearly average o$  $0.5569. This is actuallye   e lowest price seen in 100years and known as the 2001 coffee crisis. The highest yearly average price was in 2011 when one pound of coffee did tos   ar  $2.53.--  \r\n",
    "\r\n",
    "That is a pretty big price increase. From 2002 to 2011, the price increased by over 350%. A yearly average price increase of 39%!?. Not even oil   had the same price increase during the same yers.\n",
    "\n",
    "                                                                                                                      "
   ]
  },
  {
   "cell_type": "markdown",
   "id": "bebdd883-b777-4e9c-979d-6cd0e5c16876",
   "metadata": {},
   "source": [
    "\n",
    "##### Adjusted Inflation Lowest Price: 2.005 USD Yearly Avg in 2002\n",
    "\n",
    "##### Adjusted Inflation Highest Price: 7.07 USD Yearly Avg in 2011"
   ]
  },
  {
   "cell_type": "code",
   "execution_count": null,
   "id": "681a9419-306e-4055-bc6e-72932d155e75",
   "metadata": {},
   "outputs": [],
   "source": [
    "df1[df1['Price_coffee_infl']==df1['Price_coffee_infl'].max()]"
   ]
  },
  {
   "cell_type": "markdown",
   "id": "57200f19-a325-498b-baac-11ec1a252d83",
   "metadata": {},
   "source": [
    "## How's the Inflation Rate within a year Seasonal Wise(is it same for every year ups and down in seasons)?"
   ]
  },
  {
   "cell_type": "markdown",
   "id": "34936f91-e750-4057-87cf-3f863e14b882",
   "metadata": {},
   "source": [
    "<!-- \n",
    "Adjusted Inflation Price in Detail with an Example\n",
    "Adjusted inflation price refers to the price of a good or service in a previous year, expressed in terms of its equivalent purchasing power in a current year, taking into account inflation. In simpler terms, it's how much the good or service would cost back then if your money had the same buying power as it does now.\n",
    "\n",
    "Here's how it works:\n",
    "\n",
    "Identify the original price and year: Choose the good or service and the year you want to investigate its inflation-adjusted price.\n",
    "Find the inflation rate: Look up the average inflation rate for the period between the original year and the current year. (Use reliable sources like government statistics or financial institutions.)\n",
    "Apply the inflation formula: Multiply the original price by the ratio of the current inflation index to the inflation index of the original year.\n",
    "Formula:\n",
    "\n",
    "Adjusted Inflation Price = Original Price * (Current Inflation Index / Historical Inflation Index)\n",
    "Example:\n",
    "\n",
    "Let's say you bought a gallon of milk for $3.00 in 2020. In 2024, the average inflation rate was 3%. What would be the inflation-adjusted price of that gallon of milk in 2020?\n",
    "\n",
    "Original price and year: $3.00 in 2020\n",
    "Inflation rate: 3% between 2020 and 2024\n",
    "Inflation indices:\n",
    "Current inflation index for 2024: 1.03 (assuming 100 represents base year prices)\n",
    "Historical inflation index for 2020: 1.00 (base year)\n",
    "Calculation:\n",
    "\n",
    "Adjusted Inflation Price = $3.00 * (1.03 / 1.00) = $3.09\n",
    "\n",
    "Therefore, in terms of purchasing power, that  3.00 Dollar gallon of milk in 2020 would be equivalent to spending $ 3.09 in 2024 due to inflation. -->"
   ]
  },
  {
   "cell_type": "markdown",
   "id": "536a6a14-754a-4bb0-8102-9ee60bc2d504",
   "metadata": {},
   "source": [
    "^ Above Some Inflation Info"
   ]
  },
  {
   "cell_type": "markdown",
   "id": "7524032e-e1aa-4948-8657-9a2848f8cbed",
   "metadata": {},
   "source": [
    "<!-- ##### matlab agar ek kilo beef 1992 m 2.52 $ ka tha to usi Dollar ki power m vo beef 89.59% Inflation se 2022 m 4.78 $ m milta.\n",
    "##### Dollar ki power to buy beef falled that's why beef price to buy increases. -->"
   ]
  },
  {
   "cell_type": "markdown",
   "id": "92b062cf-e0fe-42cb-9123-ad483db2ee4b",
   "metadata": {},
   "source": [
    "### Let's Group our Data on basis of Seasons Instead on Month Basis."
   ]
  },
  {
   "cell_type": "code",
   "execution_count": null,
   "id": "57b57d60-8d71-4d9f-92a3-93fc2c6624b2",
   "metadata": {},
   "outputs": [],
   "source": [
    "df['Month'].unique()"
   ]
  },
  {
   "cell_type": "code",
   "execution_count": null,
   "id": "e4d783a0-b7b4-4c7f-ae23-fc6e77c5b4e3",
   "metadata": {},
   "outputs": [],
   "source": [
    "df['Month'].replace({'Jan':'Winter', 'Feb':'Winter','Mar':'Spring', 'Apr':'Spring', 'May':'Spring', 'Jun':'Summer', 'Jul':'Summer', 'Aug':'Summer', 'Sep':'Fall', 'Oct':'Fall',\n",
    "       'Nov':'Fall', 'Dec':'Winter'}, inplace=True)"
   ]
  },
  {
   "cell_type": "code",
   "execution_count": null,
   "id": "a895c5ff-84b7-46ec-a351-694ed7d7ebfc",
   "metadata": {},
   "outputs": [],
   "source": [
    "df.head()"
   ]
  },
  {
   "cell_type": "code",
   "execution_count": null,
   "id": "967f9487-863e-4341-be9f-b6a9d82a508b",
   "metadata": {},
   "outputs": [],
   "source": [
    "df2=df.groupby(['Month','Year']).mean().reset_index()\n",
    "df2= df2.sort_values(['Year'])\n",
    "# df2.set_index('Year', inplace=True)\n",
    "# df2"
   ]
  },
  {
   "cell_type": "markdown",
   "id": "adfed4e2-2d6a-47db-b872-d2f06899c09e",
   "metadata": {},
   "source": [
    "#### Inflation-adjusted prices are also known as real prices. Real prices keep the value of currency constant and allow for comparison of the exchange value of a good or service across different time periods. \n"
   ]
  },
  {
   "cell_type": "code",
   "execution_count": null,
   "id": "6dda5f33-b298-401e-93f2-8b4e232438b0",
   "metadata": {},
   "outputs": [],
   "source": [
    "plt.figure(figsize=(22,5))\n",
    "sns.barplot(x='Year' ,y='Price_rice_infl' ,data=df2, hue='Month' ,hue_order=['Spring','Summer','Fall','Winter'])\n",
    "plt.xticks(rotation=90)\n",
    "plt.title('Adjusted Inflation Rice Price/kg SeasonWise', size=20)"
   ]
  },
  {
   "cell_type": "markdown",
   "id": "f24cf0c2-03e4-4525-9bd6-764b468aba42",
   "metadata": {},
   "source": [
    "***For Rice, Winter is the Major Season where Inflation Adjusted Price is more and is Highest in several Years.\n",
    "Keeping the fact, there is not much difference in rice price at different seasons in different years.***\n"
   ]
  },
  {
   "cell_type": "code",
   "execution_count": null,
   "id": "b98a5fd9-9806-45a0-8975-a7a79ba4fa76",
   "metadata": {},
   "outputs": [],
   "source": []
  },
  {
   "cell_type": "code",
   "execution_count": null,
   "id": "f9d29817-ca88-46f5-82df-3bdadfa70865",
   "metadata": {},
   "outputs": [],
   "source": [
    "plt.figure(figsize=(24,5))\n",
    "sns.barplot(x='Year' ,y='Price_beef_infl' ,data=df2, hue='Month' ,hue_order=['Spring','Summer','Fall','Winter'],palette='pastel')\n",
    "plt.xticks(rotation=90)\n",
    "plt.title('Adjusted Inflation Beef Price/kg SeasonWise', size=20)"
   ]
  },
  {
   "cell_type": "markdown",
   "id": "31b2a71c-62cf-4ce1-8f1a-0f20379e1ad4",
   "metadata": {},
   "source": [
    "***For Beef there is not much similarity or difference in Inflation Adjusted Price for particular Seasons in different Years.***\n"
   ]
  },
  {
   "cell_type": "code",
   "execution_count": null,
   "id": "d8e508ff-5f4e-4c71-8d1d-1277a866fed1",
   "metadata": {},
   "outputs": [],
   "source": []
  },
  {
   "cell_type": "code",
   "execution_count": null,
   "id": "77748f67-91e3-4d90-bfeb-1858aef52f4e",
   "metadata": {},
   "outputs": [],
   "source": []
  },
  {
   "cell_type": "code",
   "execution_count": null,
   "id": "4e617bcc-0b15-4fd5-8194-689a7ac810a2",
   "metadata": {},
   "outputs": [],
   "source": [
    "plt.figure(figsize=(23,5))\n",
    "sns.barplot(x='Year' ,y='Price_coffee_infl' ,data=df2, hue='Month' ,hue_order=['Spring','Summer','Fall','Winter'],color='grey')\n",
    "plt.xticks(rotation=90)\n",
    "plt.title('Adjusted Inflation Coffee Price/kg SeasonWise', size=20)"
   ]
  },
  {
   "cell_type": "markdown",
   "id": "7428d58a-1ebd-4d2d-80ab-6bdaeff5d424",
   "metadata": {},
   "source": [
    "***For Coffee too, there is not much difference in  Adjusted Price for different Seasons in different Years.***"
   ]
  },
  {
   "cell_type": "code",
   "execution_count": null,
   "id": "e441775c-e069-484c-be78-cc2f5d9519f3",
   "metadata": {},
   "outputs": [],
   "source": []
  },
  {
   "cell_type": "markdown",
   "id": "9fefeae4-d107-41e3-afd5-3a82e3678915",
   "metadata": {},
   "source": [
    "## Summary"
   ]
  },
  {
   "cell_type": "code",
   "execution_count": null,
   "id": "3add4b15-d69b-4062-9c00-ba732ba1f9cf",
   "metadata": {},
   "outputs": [],
   "source": []
  },
  {
   "cell_type": "markdown",
   "id": "6b35cef8-01db-4abd-9763-e01ea3d2f26e",
   "metadata": {},
   "source": [
    "1- The Inflation Rate will decrease with the Increasing Year eventually as we are comparing Inflation of Past Years with Current Year 2022.\n",
    "- There is Exception of Year 2021 when there is Deflation.\n",
    "\n",
    "2- Products Prices and their Inflation Adjusted Prices with current year 2022 are corelated to each other. In most cases, if a Product Price is Higher in a year\n",
    " then it's Inflation Adjusted Price will be high too & similiar in case of Low Price of a Product. For Reference\n",
    " \n",
    "**Highest Price Year:**         |    ***Adjusted Inflation Highest Price Year:***\n",
    "- Coffee: 2022                        |  * Coffee: 2011\n",
    "- Rice:   2008                        |  * Rice:   2008\n",
    "- Beef:   2022                        |  * Beef:   2022         \n",
    "\n",
    "**Lowest Price Year:**          |    ***Adjusted Inflation Lowest Price Year:***\n",
    "- Coffee: 2002                        |  * Coffee: 2002\n",
    "- Rice:   2001                        |  * Rice:   2001\n",
    "- Beef:   1998                        |  * Beef:   1998\n",
    "\n",
    "3- The Price of Rice , Beef and Coffee shows difference in their Prices over the years. \n",
    "- Among all 3 Products, Coffee is the most Volatile Product in terms of its Price in USD from 1992-2013.\n",
    "- Rice have remain the Cheapest and most stable Product in the whole timeframe among all.\n",
    "\n",
    "4-If we talk about the Adjusted Inflation Price of Each Product from 1992-2022:\n",
    "- Rice is the most Stable Product \n",
    "- Coffee is the most Volatile Product \\\n",
    "There are several factors/reasons for their differences & similarities in Prices in different years and Adjusted Inflation Price with 2022 which I have mentioned above.\n",
    "\n",
    "5-Finally while Comparing all the 3 Products Price or Adjusted Inflation Price Season Wise in a Year from 1992-2022, there was\n",
    " not much similarity in if the Price is getting high in a particular season or if the Price is getting lowin a particular season over years."
   ]
  },
  {
   "cell_type": "code",
   "execution_count": null,
   "id": "aa2ee7a6-9146-4943-b28f-5e1f1d26cc7e",
   "metadata": {},
   "outputs": [],
   "source": []
  }
 ],
 "metadata": {
  "kernelspec": {
   "display_name": "Python 3 (ipykernel)",
   "language": "python",
   "name": "python3"
  },
  "language_info": {
   "codemirror_mode": {
    "name": "ipython",
    "version": 3
   },
   "file_extension": ".py",
   "mimetype": "text/x-python",
   "name": "python",
   "nbconvert_exporter": "python",
   "pygments_lexer": "ipython3",
   "version": "3.11.4"
  }
 },
 "nbformat": 4,
 "nbformat_minor": 5
}
